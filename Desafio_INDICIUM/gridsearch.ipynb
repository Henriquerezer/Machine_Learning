{
  "nbformat": 4,
  "nbformat_minor": 0,
  "metadata": {
    "colab": {
      "name": "gridsearch.ipynb",
      "provenance": [],
      "authorship_tag": "ABX9TyMHb9aa1RXgHJw7xdn+bOQH",
      "include_colab_link": true
    },
    "kernelspec": {
      "name": "python3",
      "display_name": "Python 3"
    },
    "language_info": {
      "name": "python"
    }
  },
  "cells": [
    {
      "cell_type": "markdown",
      "metadata": {
        "id": "view-in-github",
        "colab_type": "text"
      },
      "source": [
        "<a href=\"https://colab.research.google.com/github/Henriquerezer/Machine_Learning/blob/main/Desafio_INDICIUM/gridsearch.ipynb\" target=\"_parent\"><img src=\"https://colab.research.google.com/assets/colab-badge.svg\" alt=\"Open In Colab\"/></a>"
      ]
    },
    {
      "cell_type": "code",
      "execution_count": 1,
      "metadata": {
        "id": "7YvDtD-C5ag1"
      },
      "outputs": [],
      "source": [
        "import pandas as pd\n",
        "caminho = '/content/yearly_wage_tratado'\n",
        "treinoX = pd.read_csv(caminho)\n",
        "\n",
        "caminho2 = '/content/wage_train.csv'\n",
        "treinoy = pd.read_csv(caminho2)\n",
        "treinoy['yearly_wage'] = treinoy['yearly_wage'].map({' <=50K': 1, ' >50K': 0})\n",
        "treinoy = treinoy['yearly_wage']\n",
        "from sklearn.model_selection import train_test_split\n",
        "X_train, X_test, y_train, y_test = train_test_split(treinoX, treinoy, test_size = 0.3)"
      ]
    },
    {
      "cell_type": "code",
      "source": [
        "import numpy as np\n",
        "# Pipeline, Gridsearch, train_test_split\n",
        "from sklearn.pipeline import Pipeline\n",
        "from sklearn.model_selection import train_test_split, GridSearchCV\n",
        "# Plot the confusion matrix at the end of the tutorial\n",
        "from sklearn.metrics import plot_confusion_matrix\n",
        "# Classification Models\n",
        "from sklearn.linear_model import LogisticRegression\n",
        "from sklearn.neighbors import KNeighborsClassifier\n",
        "from sklearn.ensemble import RandomForestClassifier\n",
        "from sklearn.tree import DecisionTreeClassifier\n",
        "from xgboost import XGBClassifier\n",
        "from sklearn import svm"
      ],
      "metadata": {
        "id": "Oj7X-EGB5qcf"
      },
      "execution_count": 2,
      "outputs": []
    },
    {
      "cell_type": "code",
      "source": [
        "pipe_lr = Pipeline([('LR', LogisticRegression(random_state=42))])\n",
        "pipe_dt = Pipeline([('DT',DecisionTreeClassifier(random_state=42))])\n",
        "pipe_rf = Pipeline([('RF',RandomForestClassifier(random_state=42))])\n",
        "pipe_knn = Pipeline([('KNN', KNeighborsClassifier())])\n",
        "pipe_svm = Pipeline([('SVM', svm.SVC(random_state=42))])\n",
        "pipe_xgb = Pipeline([('XGB', XGBClassifier(random_state=42))])"
      ],
      "metadata": {
        "id": "St5xyykE5-j-"
      },
      "execution_count": 12,
      "outputs": []
    },
    {
      "cell_type": "code",
      "source": [
        "param_range = [1, 2, 3, 4, 5, 6,]\n",
        "param_range_fl = [1.5,1.0, 0.5, 0.1]\n",
        "n_estimators = [50,100,150]\n",
        "learning_rates = [.1,.2,.3]\n",
        "lr_param_grid = [{'LR__penalty': ['l1', 'l2'],\n",
        "                   'LR__C': param_range_fl,\n",
        "                   'LR__solver': ['liblinear']}]\n",
        "dt_param_grid = [{'DT__criterion': ['gini', 'entropy'],\n",
        "                   'DT__min_samples_leaf': param_range,\n",
        "                   'DT__max_depth': param_range,\n",
        "                   'DT__min_samples_split': param_range[1:]}]\n",
        "rf_param_grid = [{'RF__min_samples_leaf': param_range,\n",
        "                   'RF__max_depth': param_range,\n",
        "                   'RF__min_samples_split': param_range[1:]}]\n",
        "knn_param_grid = [{'KNN__n_neighbors': param_range,\n",
        "                   'KNN__weights': ['uniform', 'distance'],\n",
        "                   'KNN__metric': ['euclidean', 'manhattan']}]\n",
        "svm_param_grid = [{'SVM__kernel': ['linear', 'rbf'], \n",
        "                    'SVM__C': param_range}]\n",
        "xgb_param_grid = [{'XGB__learning_rate': learning_rates,\n",
        "                    'XGB__max_depth': param_range,\n",
        "                    'XGB__min_child_weight': param_range[:2],\n",
        "                    'XGB__subsample': param_range_fl,\n",
        "                    'XGB__n_estimators': n_estimators}]\n",
        "\n"
      ],
      "metadata": {
        "id": "epnuiEGX6c6F"
      },
      "execution_count": 13,
      "outputs": []
    },
    {
      "cell_type": "code",
      "source": [
        "lr_grid_search = GridSearchCV(estimator=pipe_lr,\n",
        "        param_grid=lr_param_grid,\n",
        "        scoring='accuracy',\n",
        "        cv=3)\n",
        "dt_grid_search = GridSearchCV(estimator=pipe_dt,\n",
        "        param_grid=dt_param_grid,\n",
        "        scoring='accuracy',\n",
        "        cv=3)\n",
        "rf_grid_search = GridSearchCV(estimator=pipe_rf,\n",
        "        param_grid=rf_param_grid,\n",
        "        scoring='accuracy',\n",
        "        cv=3)\n",
        "knn_grid_search = GridSearchCV(estimator=pipe_knn,\n",
        "        param_grid=knn_param_grid,\n",
        "        scoring='accuracy',\n",
        "        cv=3)\n",
        "svm_grid_search = GridSearchCV(estimator=pipe_svm,\n",
        "        param_grid=svm_param_grid,\n",
        "        scoring='accuracy',\n",
        "        cv=3)\n",
        "xgb_grid_search = GridSearchCV(estimator=pipe_xgb,\n",
        "        param_grid=xgb_param_grid,\n",
        "        scoring='accuracy',\n",
        "        cv=3)"
      ],
      "metadata": {
        "id": "W_2NWvrz65M7"
      },
      "execution_count": 14,
      "outputs": []
    },
    {
      "cell_type": "code",
      "source": [
        "grids = [lr_grid_search, dt_grid_search, rf_grid_search, knn_grid_search, svm_grid_search, xgb_grid_search]\n",
        "for pipe in grids:\n",
        "    pipe.fit(X_train,y_train)"
      ],
      "metadata": {
        "id": "3aFy4W-O6_Ts",
        "colab": {
          "base_uri": "https://localhost:8080/"
        },
        "outputId": "ab31285f-8035-44d3-d392-91af78b35e7e"
      },
      "execution_count": 15,
      "outputs": [
        {
          "output_type": "stream",
          "name": "stderr",
          "text": [
            "/usr/local/lib/python3.7/dist-packages/sklearn/model_selection/_validation.py:372: FitFailedWarning: \n",
            "324 fits failed out of a total of 1296.\n",
            "The score on these train-test partitions for these parameters will be set to nan.\n",
            "If these failures are not expected, you can try to debug them by setting error_score='raise'.\n",
            "\n",
            "Below are more details about the failures:\n",
            "--------------------------------------------------------------------------------\n",
            "324 fits failed with the following error:\n",
            "Traceback (most recent call last):\n",
            "  File \"/usr/local/lib/python3.7/dist-packages/sklearn/model_selection/_validation.py\", line 680, in _fit_and_score\n",
            "    estimator.fit(X_train, y_train, **fit_params)\n",
            "  File \"/usr/local/lib/python3.7/dist-packages/sklearn/pipeline.py\", line 394, in fit\n",
            "    self._final_estimator.fit(Xt, y, **fit_params_last_step)\n",
            "  File \"/usr/local/lib/python3.7/dist-packages/xgboost/sklearn.py\", line 732, in fit\n",
            "    callbacks=callbacks)\n",
            "  File \"/usr/local/lib/python3.7/dist-packages/xgboost/training.py\", line 216, in train\n",
            "    xgb_model=xgb_model, callbacks=callbacks)\n",
            "  File \"/usr/local/lib/python3.7/dist-packages/xgboost/training.py\", line 74, in _train_internal\n",
            "    bst.update(dtrain, i, obj)\n",
            "  File \"/usr/local/lib/python3.7/dist-packages/xgboost/core.py\", line 1109, in update\n",
            "    dtrain.handle))\n",
            "  File \"/usr/local/lib/python3.7/dist-packages/xgboost/core.py\", line 176, in _check_call\n",
            "    raise XGBoostError(py_str(_LIB.XGBGetLastError()))\n",
            "xgboost.core.XGBoostError: value 1.5 for Parameter subsample exceed bound [0,1]\n",
            "\n",
            "  warnings.warn(some_fits_failed_message, FitFailedWarning)\n",
            "/usr/local/lib/python3.7/dist-packages/sklearn/model_selection/_search.py:972: UserWarning: One or more of the test scores are non-finite: [       nan 0.81844464 0.82384149 0.82682529        nan 0.84433149\n",
            " 0.84718339 0.8474466         nan 0.85100036 0.85183398 0.85240439\n",
            "        nan 0.81844464 0.82384149 0.82682529        nan 0.84433149\n",
            " 0.84718339 0.8474466         nan 0.85100036 0.85183398 0.85240439\n",
            "        nan 0.85029842 0.85082492 0.84994736        nan 0.85446648\n",
            " 0.85455426 0.85569502        nan 0.85863461 0.85964372 0.85898559\n",
            "        nan 0.85095651 0.85078105 0.85091257        nan 0.85385219\n",
            " 0.85433487 0.8550369         nan 0.85885396 0.85981919 0.85867846\n",
            "        nan 0.85442259 0.85442262 0.85380838        nan 0.8602141\n",
            " 0.86174972 0.85701128        nan 0.86468935 0.86569848 0.85889799\n",
            "        nan 0.85402775 0.85508071 0.85297473        nan 0.85850293\n",
            " 0.86038965 0.85718678        nan 0.86354855 0.86539141 0.85907341\n",
            "        nan 0.85569503 0.85670408 0.85551956        nan 0.86552307\n",
            " 0.86556691 0.85894187        nan 0.86890144 0.86591795 0.85850309\n",
            "        nan 0.85551951 0.85731835 0.85556338        nan 0.86407523\n",
            " 0.86442616 0.85946825        nan 0.86846264 0.8666199  0.85872241\n",
            "        nan 0.85929275 0.86060909 0.85793267        nan 0.86872594\n",
            " 0.867673   0.85863468        nan 0.87056873 0.86732206 0.85872239\n",
            "        nan 0.85771317 0.85959988 0.85547569        nan 0.86819936\n",
            " 0.86727802 0.85832752        nan 0.86929627 0.86574247 0.85674804\n",
            "        nan 0.86223242 0.86192531 0.85639708        nan 0.87043703\n",
            " 0.86749743 0.85745005        nan 0.8685066  0.86666385 0.85841527\n",
            "        nan 0.86262729 0.86227635 0.85709908        nan 0.86999836\n",
            " 0.86824333 0.85740621        nan 0.86929629 0.86802393 0.85771338\n",
            "        nan 0.84893825 0.84915763 0.84700783        nan 0.85293089\n",
            " 0.85262378 0.85455426        nan 0.85604597 0.85709895 0.8581081\n",
            "        nan 0.84893825 0.84915763 0.84700783        nan 0.85293089\n",
            " 0.85262378 0.85490528        nan 0.85604597 0.85709895 0.85832745\n",
            "        nan 0.85538779 0.85538783 0.85433487        nan 0.86131101\n",
            " 0.8621007  0.85859077        nan 0.86626884 0.86372407 0.85867844\n",
            "        nan 0.85481744 0.85516848 0.85446653        nan 0.8621446\n",
            " 0.86144266 0.85775713        nan 0.86539134 0.86455776 0.85823967\n",
            "        nan 0.86065283 0.86201304 0.85780112        nan 0.86692703\n",
            " 0.86762902 0.85622157        nan 0.86881364 0.86749736 0.85780098\n",
            "        nan 0.8592928  0.8614866  0.85780109        nan 0.86701475\n",
            " 0.86596181 0.85591445        nan 0.86872587 0.86591787 0.85543181\n",
            "        nan 0.86451395 0.86451388 0.85652862        nan 0.86991058\n",
            " 0.86732195 0.85771333        nan 0.8688576  0.86596185 0.85464206\n",
            "        nan 0.86372409 0.86504042 0.85516852        nan 0.86942796\n",
            " 0.86740977 0.85573908        nan 0.86894536 0.86561092 0.85130774\n",
            "        nan 0.86802394 0.86635672 0.85709907        nan 0.86876985\n",
            " 0.86495276 0.85490539        nan 0.86754131 0.86389973 0.85516859\n",
            "        nan 0.86841882 0.86534753 0.857494          nan 0.86850659\n",
            " 0.86354881 0.85350123        nan 0.86736574 0.86407529 0.85100048\n",
            "        nan 0.86995435 0.86675159 0.8551248         nan 0.86762913\n",
            " 0.86275902 0.84889439        nan 0.86697097 0.86003873 0.84547227\n",
            "        nan 0.86947179 0.86561084 0.85494917        nan 0.86771683\n",
            " 0.86223249 0.85113202        nan 0.8646894  0.86087235 0.84722726\n",
            "        nan 0.85192176 0.85170237 0.85078105        nan 0.85551944\n",
            " 0.85749391 0.85630931        nan 0.85889788 0.86113547 0.85753774\n",
            "        nan 0.85192176 0.85170237 0.85078105        nan 0.85551944\n",
            " 0.85749391 0.85582667        nan 0.85889788 0.86113547 0.85828363\n",
            "        nan 0.85832739 0.85889791 0.85740619        nan 0.86626885\n",
            " 0.86346081 0.85622157        nan 0.86890134 0.86587403 0.85525628\n",
            "        nan 0.85942436 0.85911723 0.85696736        nan 0.8650842\n",
            " 0.86517206 0.85780097        nan 0.86929625 0.8657425  0.85709906\n",
            "        nan 0.86486488 0.86407508 0.85687969        nan 0.86912078\n",
            " 0.86749738 0.85600203        nan 0.86991053 0.86789228 0.85503705\n",
            "        nan 0.86455774 0.86464543 0.85587054        nan 0.86885752\n",
            " 0.86609335 0.85433488        nan 0.86969118 0.86596173 0.85293084\n",
            "        nan 0.86780461 0.86543524 0.85578281        nan 0.86841877\n",
            " 0.86622509 0.85126366        nan 0.86762909 0.86350486 0.84823634\n",
            "        nan 0.86749743 0.86613731 0.85227269        nan 0.86833111\n",
            " 0.86442629 0.85117588        nan 0.86758516 0.86293452 0.84806064\n",
            "        nan 0.86903297 0.86451392 0.85271162        nan 0.86754127\n",
            " 0.86131116 0.84577941        nan 0.86473328 0.86003862 0.84108476\n",
            "        nan 0.86890141 0.86644447 0.85218505        nan 0.8671026\n",
            " 0.86275893 0.84490179        nan 0.86486498 0.85929276 0.84301516\n",
            "        nan 0.86780462 0.86425069 0.84832426        nan 0.8650405\n",
            " 0.86017024 0.84047039        nan 0.86161822 0.85336977 0.83608289\n",
            "        nan 0.86710249 0.86451391 0.84828017        nan 0.86490871\n",
            " 0.85960003 0.8453405         nan 0.86183758 0.85547563 0.84222538]\n",
            "  category=UserWarning,\n"
          ]
        }
      ]
    },
    {
      "cell_type": "code",
      "source": [
        "grid_dict = {0: 'Logistic Regression', 1: 'Decision Trees', \n",
        "             2: 'Random Forest', 3: 'K-Nearest Neighbors', \n",
        "             4: 'Support Vector Machines', 5: 'XGBoost'}\n",
        "for i, model in enumerate(grids):\n",
        "    print('{} Test Accuracy: {}'.format(grid_dict[i],\n",
        "    model.score(X_test,y_test)))\n",
        "    print('{} Best Params: {}'.format(grid_dict[i],          model.best_params_))"
      ],
      "metadata": {
        "colab": {
          "base_uri": "https://localhost:8080/"
        },
        "id": "QB7QPoWH0S7a",
        "outputId": "c0404939-99af-442d-a587-09f87e36b79b"
      },
      "execution_count": 16,
      "outputs": [
        {
          "output_type": "stream",
          "name": "stdout",
          "text": [
            "Logistic Regression Test Accuracy: 0.846949221949222\n",
            "Logistic Regression Best Params: {'LR__C': 1.0, 'LR__penalty': 'l1', 'LR__solver': 'liblinear'}\n",
            "Decision Trees Test Accuracy: 0.8463349713349714\n",
            "Decision Trees Best Params: {'DT__criterion': 'gini', 'DT__max_depth': 6, 'DT__min_samples_leaf': 1, 'DT__min_samples_split': 3}\n",
            "Random Forest Test Accuracy: 0.8447993447993448\n",
            "Random Forest Best Params: {'RF__max_depth': 6, 'RF__min_samples_leaf': 1, 'RF__min_samples_split': 6}\n",
            "K-Nearest Neighbors Test Accuracy: 0.822993447993448\n",
            "K-Nearest Neighbors Best Params: {'KNN__metric': 'manhattan', 'KNN__n_neighbors': 5, 'KNN__weights': 'uniform'}\n",
            "Support Vector Machines Test Accuracy: 0.8504299754299754\n",
            "Support Vector Machines Best Params: {'SVM__C': 6, 'SVM__kernel': 'linear'}\n",
            "XGBoost Test Accuracy: 0.8712121212121212\n",
            "XGBoost Best Params: {'XGB__learning_rate': 0.1, 'XGB__max_depth': 5, 'XGB__min_child_weight': 1, 'XGB__n_estimators': 150, 'XGB__subsample': 1.0}\n"
          ]
        }
      ]
    },
    {
      "cell_type": "code",
      "source": [
        " print('Melhor modelo com melhores hiperparâmetros',model.best_params_)\n",
        " print('Accuracy melhor modelo: ', model.best_score_ )"
      ],
      "metadata": {
        "colab": {
          "base_uri": "https://localhost:8080/"
        },
        "id": "KwG1csT70mi1",
        "outputId": "a75ede98-afa2-48fc-e6f9-4f541d91e8b5"
      },
      "execution_count": 20,
      "outputs": [
        {
          "output_type": "stream",
          "name": "stdout",
          "text": [
            "Melhor modelo com melhores hiperparâmetros {'XGB__learning_rate': 0.1, 'XGB__max_depth': 5, 'XGB__min_child_weight': 1, 'XGB__n_estimators': 150, 'XGB__subsample': 1.0}\n",
            "Accuracy melhor modelo:  0.8705687278666879\n"
          ]
        }
      ]
    },
    {
      "cell_type": "code",
      "source": [
        "plot_confusion_matrix(xgb_grid_search, X_test, y_test)"
      ],
      "metadata": {
        "colab": {
          "base_uri": "https://localhost:8080/",
          "height": 354
        },
        "id": "-cYzVxNKa7Dr",
        "outputId": "237763dc-4aa6-4faf-ae69-2deae44ab0fc"
      },
      "execution_count": 17,
      "outputs": [
        {
          "output_type": "stream",
          "name": "stderr",
          "text": [
            "/usr/local/lib/python3.7/dist-packages/sklearn/utils/deprecation.py:87: FutureWarning: Function plot_confusion_matrix is deprecated; Function `plot_confusion_matrix` is deprecated in 1.0 and will be removed in 1.2. Use one of the class methods: ConfusionMatrixDisplay.from_predictions or ConfusionMatrixDisplay.from_estimator.\n",
            "  warnings.warn(msg, category=FutureWarning)\n"
          ]
        },
        {
          "output_type": "execute_result",
          "data": {
            "text/plain": [
              "<sklearn.metrics._plot.confusion_matrix.ConfusionMatrixDisplay at 0x7f62d9980590>"
            ]
          },
          "metadata": {},
          "execution_count": 17
        },
        {
          "output_type": "display_data",
          "data": {
            "text/plain": [
              "<Figure size 432x288 with 2 Axes>"
            ],
            "image/png": "[encoded data removed]"
          },
          "metadata": {
            "needs_background": "light"
          }
        }
      ]
    }
  ]
}