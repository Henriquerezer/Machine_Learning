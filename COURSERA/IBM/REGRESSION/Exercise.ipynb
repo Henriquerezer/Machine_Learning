{
  "cells": [
    {
      "cell_type": "markdown",
      "metadata": {
        "id": "view-in-github",
        "colab_type": "text"
      },
      "source": [
        "<a href=\"https://colab.research.google.com/github/Henriquerezer/Machine_Learning/blob/main/COURSERA/IBM/REGRESSION/Exercise.ipynb\" target=\"_parent\"><img src=\"https://colab.research.google.com/assets/colab-badge.svg\" alt=\"Open In Colab\"/></a>"
      ]
    },
    {
      "cell_type": "code",
      "execution_count": 4,
      "id": "d1bbb67c",
      "metadata": {
        "id": "d1bbb67c"
      },
      "outputs": [],
      "source": [
        "import pandas as pd\n",
        "import numpy as np \n",
        "import matplotlib.pyplot as plt"
      ]
    },
    {
      "cell_type": "markdown",
      "source": [
        "# **PART 1**\n",
        "\n",
        "Importing the data.\n",
        "\n",
        " data regarding the price of insurance in the USA, I chose this data because I like working with health related data.\n",
        "\n",
        "We have columns for:\n",
        "\n",
        "\n",
        "* **Age**\n",
        "***BMI** (body mass index)\n",
        "***Region**\n",
        "***Charges**\n",
        "* **Sex** \n",
        "\n",
        "The pre-processing of the data was done in this notebook\n",
        "https://github.com/Henriquerezer/Machine_Learning/blob/main/COURSERA/IBM/REGRESSION/tratamento_de_dados_regressao_insurance.ipynb\n"
      ],
      "metadata": {
        "id": "ZSH76JzqEjO7"
      },
      "id": "ZSH76JzqEjO7"
    },
    {
      "cell_type": "markdown",
      "source": [
        "**objective**\n",
        "\n",
        "The objective of this analysis is to predict the value of the health plan charge, for each individual"
      ],
      "metadata": {
        "id": "KLp7N2FwG7BR"
      },
      "id": "KLp7N2FwG7BR"
    },
    {
      "cell_type": "code",
      "execution_count": 5,
      "id": "05545b73",
      "metadata": {
        "colab": {
          "base_uri": "https://localhost:8080/",
          "height": 288
        },
        "id": "05545b73",
        "outputId": "871274d5-dc9a-4f1a-83f0-64278984f1b8"
      },
      "outputs": [
        {
          "output_type": "execute_result",
          "data": {
            "text/plain": [
              "   Unnamed: 0       age      bmi    charges  region_northwest  \\\n",
              "0           0 -1.438764  0.27900  16.884924                 0   \n",
              "1           1 -1.509965  0.33770   1.725552                 0   \n",
              "2           2 -0.797954  0.33000   4.449462                 0   \n",
              "3           3 -0.441948  0.22705  21.984471                 1   \n",
              "4           4 -0.513149  0.28880   3.866855                 1   \n",
              "\n",
              "   region_southeast  region_southwest  sex_male  children_1  children_2  \\\n",
              "0                 0                 1         0           0           0   \n",
              "1                 1                 0         1           1           0   \n",
              "2                 1                 0         1           0           0   \n",
              "3                 0                 0         1           0           0   \n",
              "4                 0                 0         1           0           0   \n",
              "\n",
              "   children_3+  smoker_1  \n",
              "0            0         1  \n",
              "1            0         0  \n",
              "2            1         0  \n",
              "3            0         0  \n",
              "4            0         0  "
            ],
            "text/html": [
              "\n",
              "  <div id=\"df-b8cd53f4-2443-4cae-802d-c3492770d5ad\">\n",
              "    <div class=\"colab-df-container\">\n",
              "      <div>\n",
              "<style scoped>\n",
              "    .dataframe tbody tr th:only-of-type {\n",
              "        vertical-align: middle;\n",
              "    }\n",
              "\n",
              "    .dataframe tbody tr th {\n",
              "        vertical-align: top;\n",
              "    }\n",
              "\n",
              "    .dataframe thead th {\n",
              "        text-align: right;\n",
              "    }\n",
              "</style>\n",
              "<table border=\"1\" class=\"dataframe\">\n",
              "  <thead>\n",
              "    <tr style=\"text-align: right;\">\n",
              "      <th></th>\n",
              "      <th>Unnamed: 0</th>\n",
              "      <th>age</th>\n",
              "      <th>bmi</th>\n",
              "      <th>charges</th>\n",
              "      <th>region_northwest</th>\n",
              "      <th>region_southeast</th>\n",
              "      <th>region_southwest</th>\n",
              "      <th>sex_male</th>\n",
              "      <th>children_1</th>\n",
              "      <th>children_2</th>\n",
              "      <th>children_3+</th>\n",
              "      <th>smoker_1</th>\n",
              "    </tr>\n",
              "  </thead>\n",
              "  <tbody>\n",
              "    <tr>\n",
              "      <th>0</th>\n",
              "      <td>0</td>\n",
              "      <td>-1.438764</td>\n",
              "      <td>0.27900</td>\n",
              "      <td>16.884924</td>\n",
              "      <td>0</td>\n",
              "      <td>0</td>\n",
              "      <td>1</td>\n",
              "      <td>0</td>\n",
              "      <td>0</td>\n",
              "      <td>0</td>\n",
              "      <td>0</td>\n",
              "      <td>1</td>\n",
              "    </tr>\n",
              "    <tr>\n",
              "      <th>1</th>\n",
              "      <td>1</td>\n",
              "      <td>-1.509965</td>\n",
              "      <td>0.33770</td>\n",
              "      <td>1.725552</td>\n",
              "      <td>0</td>\n",
              "      <td>1</td>\n",
              "      <td>0</td>\n",
              "      <td>1</td>\n",
              "      <td>1</td>\n",
              "      <td>0</td>\n",
              "      <td>0</td>\n",
              "      <td>0</td>\n",
              "    </tr>\n",
              "    <tr>\n",
              "      <th>2</th>\n",
              "      <td>2</td>\n",
              "      <td>-0.797954</td>\n",
              "      <td>0.33000</td>\n",
              "      <td>4.449462</td>\n",
              "      <td>0</td>\n",
              "      <td>1</td>\n",
              "      <td>0</td>\n",
              "      <td>1</td>\n",
              "      <td>0</td>\n",
              "      <td>0</td>\n",
              "      <td>1</td>\n",
              "      <td>0</td>\n",
              "    </tr>\n",
              "    <tr>\n",
              "      <th>3</th>\n",
              "      <td>3</td>\n",
              "      <td>-0.441948</td>\n",
              "      <td>0.22705</td>\n",
              "      <td>21.984471</td>\n",
              "      <td>1</td>\n",
              "      <td>0</td>\n",
              "      <td>0</td>\n",
              "      <td>1</td>\n",
              "      <td>0</td>\n",
              "      <td>0</td>\n",
              "      <td>0</td>\n",
              "      <td>0</td>\n",
              "    </tr>\n",
              "    <tr>\n",
              "      <th>4</th>\n",
              "      <td>4</td>\n",
              "      <td>-0.513149</td>\n",
              "      <td>0.28880</td>\n",
              "      <td>3.866855</td>\n",
              "      <td>1</td>\n",
              "      <td>0</td>\n",
              "      <td>0</td>\n",
              "      <td>1</td>\n",
              "      <td>0</td>\n",
              "      <td>0</td>\n",
              "      <td>0</td>\n",
              "      <td>0</td>\n",
              "    </tr>\n",
              "  </tbody>\n",
              "</table>\n",
              "</div>\n",
              "      <button class=\"colab-df-convert\" onclick=\"convertToInteractive('df-b8cd53f4-2443-4cae-802d-c3492770d5ad')\"\n",
              "              title=\"Convert this dataframe to an interactive table.\"\n",
              "              style=\"display:none;\">\n",
              "        \n",
              "  <svg xmlns=\"http://www.w3.org/2000/svg\" height=\"24px\"viewBox=\"0 0 24 24\"\n",
              "       width=\"24px\">\n",
              "    <path d=\"M0 0h24v24H0V0z\" fill=\"none\"/>\n",
              "    <path d=\"M18.56 5.44l.94 2.06.94-2.06 2.06-.94-2.06-.94-.94-2.06-.94 2.06-2.06.94zm-11 1L8.5 8.5l.94-2.06 2.06-.94-2.06-.94L8.5 2.5l-.94 2.06-2.06.94zm10 10l.94 2.06.94-2.06 2.06-.94-2.06-.94-.94-2.06-.94 2.06-2.06.94z\"/><path d=\"M17.41 7.96l-1.37-1.37c-.4-.4-.92-.59-1.43-.59-.52 0-1.04.2-1.43.59L10.3 9.45l-7.72 7.72c-.78.78-.78 2.05 0 2.83L4 21.41c.39.39.9.59 1.41.59.51 0 1.02-.2 1.41-.59l7.78-7.78 2.81-2.81c.8-.78.8-2.07 0-2.86zM5.41 20L4 18.59l7.72-7.72 1.47 1.35L5.41 20z\"/>\n",
              "  </svg>\n",
              "      </button>\n",
              "      \n",
              "  <style>\n",
              "    .colab-df-container {\n",
              "      display:flex;\n",
              "      flex-wrap:wrap;\n",
              "      gap: 12px;\n",
              "    }\n",
              "\n",
              "    .colab-df-convert {\n",
              "      background-color: #E8F0FE;\n",
              "      border: none;\n",
              "      border-radius: 50%;\n",
              "      cursor: pointer;\n",
              "      display: none;\n",
              "      fill: #1967D2;\n",
              "      height: 32px;\n",
              "      padding: 0 0 0 0;\n",
              "      width: 32px;\n",
              "    }\n",
              "\n",
              "    .colab-df-convert:hover {\n",
              "      background-color: #E2EBFA;\n",
              "      box-shadow: 0px 1px 2px rgba(60, 64, 67, 0.3), 0px 1px 3px 1px rgba(60, 64, 67, 0.15);\n",
              "      fill: #174EA6;\n",
              "    }\n",
              "\n",
              "    [theme=dark] .colab-df-convert {\n",
              "      background-color: #3B4455;\n",
              "      fill: #D2E3FC;\n",
              "    }\n",
              "\n",
              "    [theme=dark] .colab-df-convert:hover {\n",
              "      background-color: #434B5C;\n",
              "      box-shadow: 0px 1px 3px 1px rgba(0, 0, 0, 0.15);\n",
              "      filter: drop-shadow(0px 1px 2px rgba(0, 0, 0, 0.3));\n",
              "      fill: #FFFFFF;\n",
              "    }\n",
              "  </style>\n",
              "\n",
              "      <script>\n",
              "        const buttonEl =\n",
              "          document.querySelector('#df-b8cd53f4-2443-4cae-802d-c3492770d5ad button.colab-df-convert');\n",
              "        buttonEl.style.display =\n",
              "          google.colab.kernel.accessAllowed ? 'block' : 'none';\n",
              "\n",
              "        async function convertToInteractive(key) {\n",
              "          const element = document.querySelector('#df-b8cd53f4-2443-4cae-802d-c3492770d5ad');\n",
              "          const dataTable =\n",
              "            await google.colab.kernel.invokeFunction('convertToInteractive',\n",
              "                                                     [key], {});\n",
              "          if (!dataTable) return;\n",
              "\n",
              "          const docLinkHtml = 'Like what you see? Visit the ' +\n",
              "            '<a target=\"_blank\" href=https://colab.research.google.com/notebooks/data_table.ipynb>data table notebook</a>'\n",
              "            + ' to learn more about interactive tables.';\n",
              "          element.innerHTML = '';\n",
              "          dataTable['output_type'] = 'display_data';\n",
              "          await google.colab.output.renderOutput(dataTable, element);\n",
              "          const docLink = document.createElement('div');\n",
              "          docLink.innerHTML = docLinkHtml;\n",
              "          element.appendChild(docLink);\n",
              "        }\n",
              "      </script>\n",
              "    </div>\n",
              "  </div>\n",
              "  "
            ]
          },
          "metadata": {},
          "execution_count": 5
        }
      ],
      "source": [
        "data = pd.read_csv('https://raw.githubusercontent.com/Henriquerezer/Machine_Learning/main/COURSERA/IBM/REGRESSION/insurance_processado_regressao%20(1).csv')\n",
        "data.head()"
      ]
    },
    {
      "cell_type": "markdown",
      "source": [
        "#**Part 2**\n",
        "\n",
        "Split between Training and Test, using train_test_split"
      ],
      "metadata": {
        "id": "DfSOdbJdHB9W"
      },
      "id": "DfSOdbJdHB9W"
    },
    {
      "cell_type": "code",
      "execution_count": 6,
      "id": "94d4ee2c",
      "metadata": {
        "id": "94d4ee2c"
      },
      "outputs": [],
      "source": [
        "X = data.drop('charges', axis = 1)\n",
        "y = data['charges']"
      ]
    },
    {
      "cell_type": "code",
      "execution_count": 7,
      "id": "997e5a78",
      "metadata": {
        "id": "997e5a78"
      },
      "outputs": [],
      "source": [
        "# I Will separate in train and test \n",
        "from sklearn.model_selection import train_test_split\n",
        "X_train, X_test, y_train, y_test = train_test_split(X,y, test_size = 0.3, random_state = 42)"
      ]
    },
    {
      "cell_type": "code",
      "execution_count": 8,
      "id": "77a7eb21",
      "metadata": {
        "id": "77a7eb21"
      },
      "outputs": [],
      "source": [
        "from sklearn.metrics import mean_squared_error\n",
        "\n",
        "def rmse(y_true, y_predicted):\n",
        "    return np.sqrt(mean_squared_error(y_true, y_predicted))"
      ]
    },
    {
      "cell_type": "markdown",
      "source": [
        "# **Linear Regression Model**"
      ],
      "metadata": {
        "id": "1-BzaMt-HQrt"
      },
      "id": "1-BzaMt-HQrt"
    },
    {
      "cell_type": "code",
      "execution_count": 9,
      "id": "32897428",
      "metadata": {
        "colab": {
          "base_uri": "https://localhost:8080/"
        },
        "id": "32897428",
        "outputId": "18ace52c-a810-45de-c875-c06552a00bb7"
      },
      "outputs": [
        {
          "output_type": "stream",
          "name": "stdout",
          "text": [
            "5.8175456284778475\n"
          ]
        }
      ],
      "source": [
        "from sklearn.linear_model import LinearRegression\n",
        "\n",
        "lr = LinearRegression().fit(X_train, y_train)\n",
        "\n",
        "lr_rmse = rmse(y_test, lr.predict(X_test))\n",
        "print(lr_rmse)"
      ]
    },
    {
      "cell_type": "code",
      "execution_count": 10,
      "id": "b9417189",
      "metadata": {
        "colab": {
          "base_uri": "https://localhost:8080/",
          "height": 404
        },
        "id": "b9417189",
        "outputId": "7403860a-250b-4260-ebf2-009fe3c81517"
      },
      "outputs": [
        {
          "output_type": "display_data",
          "data": {
            "text/plain": [
              "<Figure size 432x432 with 1 Axes>"
            ],
            "image/png": "[encoded data removed]"
          },
          "metadata": {
            "needs_background": "light"
          }
        }
      ],
      "source": [
        "f = plt.figure(figsize=(6,6))\n",
        "ax = plt.axes()\n",
        "ax.plot(y_test,lr.predict(X_test),marker= 'o', ls = '', ms = 3.0 )\n",
        "\n",
        "lim = (0, y_test.max())\n",
        "\n",
        "ax.set(xlabel='Actual Price',\n",
        "     ylabel='Predicted Price',\n",
        "     xlim = lim,\n",
        "     ylim = lim,\n",
        "     title='Linear Regression Results');"
      ]
    },
    {
      "cell_type": "code",
      "execution_count": 11,
      "id": "78665b41",
      "metadata": {
        "colab": {
          "base_uri": "https://localhost:8080/",
          "height": 424
        },
        "id": "78665b41",
        "outputId": "6985409f-a2b3-4ac4-c664-0d1437d941e4"
      },
      "outputs": [
        {
          "output_type": "execute_result",
          "data": {
            "text/plain": [
              "         Actual  Predicted\n",
              "764    9.095068   9.722260\n",
              "887    5.272176   7.087949\n",
              "890   29.330983  36.895483\n",
              "1293   9.301894   9.562642\n",
              "259   33.750292  26.628275\n",
              "...         ...        ...\n",
              "701    9.541696  16.329697\n",
              "672    4.399731   6.523166\n",
              "1163   2.200831   2.464186\n",
              "1103  11.363283  14.764184\n",
              "1295   1.964780   0.408873\n",
              "\n",
              "[402 rows x 2 columns]"
            ],
            "text/html": [
              "\n",
              "  <div id=\"df-6648acf7-39d5-44d0-9955-ddb548197aaa\">\n",
              "    <div class=\"colab-df-container\">\n",
              "      <div>\n",
              "<style scoped>\n",
              "    .dataframe tbody tr th:only-of-type {\n",
              "        vertical-align: middle;\n",
              "    }\n",
              "\n",
              "    .dataframe tbody tr th {\n",
              "        vertical-align: top;\n",
              "    }\n",
              "\n",
              "    .dataframe thead th {\n",
              "        text-align: right;\n",
              "    }\n",
              "</style>\n",
              "<table border=\"1\" class=\"dataframe\">\n",
              "  <thead>\n",
              "    <tr style=\"text-align: right;\">\n",
              "      <th></th>\n",
              "      <th>Actual</th>\n",
              "      <th>Predicted</th>\n",
              "    </tr>\n",
              "  </thead>\n",
              "  <tbody>\n",
              "    <tr>\n",
              "      <th>764</th>\n",
              "      <td>9.095068</td>\n",
              "      <td>9.722260</td>\n",
              "    </tr>\n",
              "    <tr>\n",
              "      <th>887</th>\n",
              "      <td>5.272176</td>\n",
              "      <td>7.087949</td>\n",
              "    </tr>\n",
              "    <tr>\n",
              "      <th>890</th>\n",
              "      <td>29.330983</td>\n",
              "      <td>36.895483</td>\n",
              "    </tr>\n",
              "    <tr>\n",
              "      <th>1293</th>\n",
              "      <td>9.301894</td>\n",
              "      <td>9.562642</td>\n",
              "    </tr>\n",
              "    <tr>\n",
              "      <th>259</th>\n",
              "      <td>33.750292</td>\n",
              "      <td>26.628275</td>\n",
              "    </tr>\n",
              "    <tr>\n",
              "      <th>...</th>\n",
              "      <td>...</td>\n",
              "      <td>...</td>\n",
              "    </tr>\n",
              "    <tr>\n",
              "      <th>701</th>\n",
              "      <td>9.541696</td>\n",
              "      <td>16.329697</td>\n",
              "    </tr>\n",
              "    <tr>\n",
              "      <th>672</th>\n",
              "      <td>4.399731</td>\n",
              "      <td>6.523166</td>\n",
              "    </tr>\n",
              "    <tr>\n",
              "      <th>1163</th>\n",
              "      <td>2.200831</td>\n",
              "      <td>2.464186</td>\n",
              "    </tr>\n",
              "    <tr>\n",
              "      <th>1103</th>\n",
              "      <td>11.363283</td>\n",
              "      <td>14.764184</td>\n",
              "    </tr>\n",
              "    <tr>\n",
              "      <th>1295</th>\n",
              "      <td>1.964780</td>\n",
              "      <td>0.408873</td>\n",
              "    </tr>\n",
              "  </tbody>\n",
              "</table>\n",
              "<p>402 rows × 2 columns</p>\n",
              "</div>\n",
              "      <button class=\"colab-df-convert\" onclick=\"convertToInteractive('df-6648acf7-39d5-44d0-9955-ddb548197aaa')\"\n",
              "              title=\"Convert this dataframe to an interactive table.\"\n",
              "              style=\"display:none;\">\n",
              "        \n",
              "  <svg xmlns=\"http://www.w3.org/2000/svg\" height=\"24px\"viewBox=\"0 0 24 24\"\n",
              "       width=\"24px\">\n",
              "    <path d=\"M0 0h24v24H0V0z\" fill=\"none\"/>\n",
              "    <path d=\"M18.56 5.44l.94 2.06.94-2.06 2.06-.94-2.06-.94-.94-2.06-.94 2.06-2.06.94zm-11 1L8.5 8.5l.94-2.06 2.06-.94-2.06-.94L8.5 2.5l-.94 2.06-2.06.94zm10 10l.94 2.06.94-2.06 2.06-.94-2.06-.94-.94-2.06-.94 2.06-2.06.94z\"/><path d=\"M17.41 7.96l-1.37-1.37c-.4-.4-.92-.59-1.43-.59-.52 0-1.04.2-1.43.59L10.3 9.45l-7.72 7.72c-.78.78-.78 2.05 0 2.83L4 21.41c.39.39.9.59 1.41.59.51 0 1.02-.2 1.41-.59l7.78-7.78 2.81-2.81c.8-.78.8-2.07 0-2.86zM5.41 20L4 18.59l7.72-7.72 1.47 1.35L5.41 20z\"/>\n",
              "  </svg>\n",
              "      </button>\n",
              "      \n",
              "  <style>\n",
              "    .colab-df-container {\n",
              "      display:flex;\n",
              "      flex-wrap:wrap;\n",
              "      gap: 12px;\n",
              "    }\n",
              "\n",
              "    .colab-df-convert {\n",
              "      background-color: #E8F0FE;\n",
              "      border: none;\n",
              "      border-radius: 50%;\n",
              "      cursor: pointer;\n",
              "      display: none;\n",
              "      fill: #1967D2;\n",
              "      height: 32px;\n",
              "      padding: 0 0 0 0;\n",
              "      width: 32px;\n",
              "    }\n",
              "\n",
              "    .colab-df-convert:hover {\n",
              "      background-color: #E2EBFA;\n",
              "      box-shadow: 0px 1px 2px rgba(60, 64, 67, 0.3), 0px 1px 3px 1px rgba(60, 64, 67, 0.15);\n",
              "      fill: #174EA6;\n",
              "    }\n",
              "\n",
              "    [theme=dark] .colab-df-convert {\n",
              "      background-color: #3B4455;\n",
              "      fill: #D2E3FC;\n",
              "    }\n",
              "\n",
              "    [theme=dark] .colab-df-convert:hover {\n",
              "      background-color: #434B5C;\n",
              "      box-shadow: 0px 1px 3px 1px rgba(0, 0, 0, 0.15);\n",
              "      filter: drop-shadow(0px 1px 2px rgba(0, 0, 0, 0.3));\n",
              "      fill: #FFFFFF;\n",
              "    }\n",
              "  </style>\n",
              "\n",
              "      <script>\n",
              "        const buttonEl =\n",
              "          document.querySelector('#df-6648acf7-39d5-44d0-9955-ddb548197aaa button.colab-df-convert');\n",
              "        buttonEl.style.display =\n",
              "          google.colab.kernel.accessAllowed ? 'block' : 'none';\n",
              "\n",
              "        async function convertToInteractive(key) {\n",
              "          const element = document.querySelector('#df-6648acf7-39d5-44d0-9955-ddb548197aaa');\n",
              "          const dataTable =\n",
              "            await google.colab.kernel.invokeFunction('convertToInteractive',\n",
              "                                                     [key], {});\n",
              "          if (!dataTable) return;\n",
              "\n",
              "          const docLinkHtml = 'Like what you see? Visit the ' +\n",
              "            '<a target=\"_blank\" href=https://colab.research.google.com/notebooks/data_table.ipynb>data table notebook</a>'\n",
              "            + ' to learn more about interactive tables.';\n",
              "          element.innerHTML = '';\n",
              "          dataTable['output_type'] = 'display_data';\n",
              "          await google.colab.output.renderOutput(dataTable, element);\n",
              "          const docLink = document.createElement('div');\n",
              "          docLink.innerHTML = docLinkHtml;\n",
              "          element.appendChild(docLink);\n",
              "        }\n",
              "      </script>\n",
              "    </div>\n",
              "  </div>\n",
              "  "
            ]
          },
          "metadata": {},
          "execution_count": 11
        }
      ],
      "source": [
        "df = pd.DataFrame({'Actual': y_test, 'Predicted': lr.predict(X_test)})\n",
        "df"
      ]
    },
    {
      "cell_type": "markdown",
      "source": [
        "# **Ridge Regression Model**"
      ],
      "metadata": {
        "id": "XT_L7Yv1HYTD"
      },
      "id": "XT_L7Yv1HYTD"
    },
    {
      "cell_type": "code",
      "execution_count": 12,
      "id": "3b822054",
      "metadata": {
        "colab": {
          "base_uri": "https://localhost:8080/"
        },
        "id": "3b822054",
        "outputId": "c044484a-212e-47bf-eb94-b989ee3a15c1"
      },
      "outputs": [
        {
          "output_type": "stream",
          "name": "stdout",
          "text": [
            "0.1 5.815863735221423\n"
          ]
        }
      ],
      "source": [
        "from sklearn.linear_model import RidgeCV\n",
        "\n",
        "alphas = [0.005, 0.05, 0.1, 0.3, 1, 3, 5, 10, 15, 30 , 50]\n",
        "ridgecv = RidgeCV(alphas = alphas, cv = 10).fit(X_train, y_train)\n",
        "\n",
        "ridgecv_rmse = rmse(y_test, ridgecv.predict(X_test))\n",
        "\n",
        "print(ridgecv.alpha_, ridgecv_rmse)"
      ]
    },
    {
      "cell_type": "markdown",
      "source": [
        "# **Lasso Regression Model**"
      ],
      "metadata": {
        "id": "bQIRPajZHh8T"
      },
      "id": "bQIRPajZHh8T"
    },
    {
      "cell_type": "code",
      "execution_count": 13,
      "id": "8f335fc6",
      "metadata": {
        "colab": {
          "base_uri": "https://localhost:8080/"
        },
        "id": "8f335fc6",
        "outputId": "0be6ac55-84e1-412b-91f2-3b5998f85596"
      },
      "outputs": [
        {
          "output_type": "stream",
          "name": "stdout",
          "text": [
            "0.0001 5.817492050598895\n"
          ]
        }
      ],
      "source": [
        "from sklearn.linear_model import LassoCV\n",
        "\n",
        "alphas2 = np.array([0.0001,0.005,0.05,0.1,5,20,50,80,120,140])\n",
        "\n",
        "lassocv = LassoCV(alphas = alphas2, max_iter = 5e4, cv = 10).fit(X_train,y_train)\n",
        "\n",
        "lassocv_rmse = rmse(y_test, lassocv.predict(X_test))\n",
        "\n",
        "print(lassocv.alpha_, lassocv_rmse)"
      ]
    },
    {
      "cell_type": "markdown",
      "source": [
        "# **ElasticNetCV Regression Model**"
      ],
      "metadata": {
        "id": "pYU39DAJHlOO"
      },
      "id": "pYU39DAJHlOO"
    },
    {
      "cell_type": "code",
      "execution_count": 14,
      "id": "9966f842",
      "metadata": {
        "colab": {
          "base_uri": "https://localhost:8080/"
        },
        "id": "9966f842",
        "outputId": "974fbe7a-15e8-4270-c8ae-ec5853160ff5"
      },
      "outputs": [
        {
          "output_type": "stream",
          "name": "stdout",
          "text": [
            "0.0001 0.9 5.817303371654657\n"
          ]
        }
      ],
      "source": [
        "from sklearn.linear_model import ElasticNetCV\n",
        "\n",
        "l1_ratio = np.linspace(0.1,0.9,9)\n",
        "\n",
        "elasticnetcv = ElasticNetCV(alphas = alphas2, l1_ratio= l1_ratio, max_iter = 1e4).fit(X_train,y_train)\n",
        "\n",
        "elasticnetcv_rmse = rmse(y_test, elasticnetcv.predict(X_test))\n",
        "\n",
        "print(elasticnetcv.alpha_,elasticnetcv.l1_ratio_,elasticnetcv_rmse)"
      ]
    },
    {
      "cell_type": "markdown",
      "source": [
        "#**Comparison between models**"
      ],
      "metadata": {
        "id": "8o1tbFxsHrH6"
      },
      "id": "8o1tbFxsHrH6"
    },
    {
      "cell_type": "code",
      "execution_count": 15,
      "id": "731dfa2a",
      "metadata": {
        "colab": {
          "base_uri": "https://localhost:8080/",
          "height": 175
        },
        "id": "731dfa2a",
        "outputId": "df9c50fa-5866-4b34-cda1-9d29e4faaa15"
      },
      "outputs": [
        {
          "output_type": "execute_result",
          "data": {
            "text/plain": [
              "                RMSE\n",
              "Linear      5.817546\n",
              "Ridge       5.815864\n",
              "Lasso       5.817492\n",
              "ElasticNet  5.817303"
            ],
            "text/html": [
              "\n",
              "  <div id=\"df-544a4388-d0d6-4e14-bc1b-a032d8d90066\">\n",
              "    <div class=\"colab-df-container\">\n",
              "      <div>\n",
              "<style scoped>\n",
              "    .dataframe tbody tr th:only-of-type {\n",
              "        vertical-align: middle;\n",
              "    }\n",
              "\n",
              "    .dataframe tbody tr th {\n",
              "        vertical-align: top;\n",
              "    }\n",
              "\n",
              "    .dataframe thead th {\n",
              "        text-align: right;\n",
              "    }\n",
              "</style>\n",
              "<table border=\"1\" class=\"dataframe\">\n",
              "  <thead>\n",
              "    <tr style=\"text-align: right;\">\n",
              "      <th></th>\n",
              "      <th>RMSE</th>\n",
              "    </tr>\n",
              "  </thead>\n",
              "  <tbody>\n",
              "    <tr>\n",
              "      <th>Linear</th>\n",
              "      <td>5.817546</td>\n",
              "    </tr>\n",
              "    <tr>\n",
              "      <th>Ridge</th>\n",
              "      <td>5.815864</td>\n",
              "    </tr>\n",
              "    <tr>\n",
              "      <th>Lasso</th>\n",
              "      <td>5.817492</td>\n",
              "    </tr>\n",
              "    <tr>\n",
              "      <th>ElasticNet</th>\n",
              "      <td>5.817303</td>\n",
              "    </tr>\n",
              "  </tbody>\n",
              "</table>\n",
              "</div>\n",
              "      <button class=\"colab-df-convert\" onclick=\"convertToInteractive('df-544a4388-d0d6-4e14-bc1b-a032d8d90066')\"\n",
              "              title=\"Convert this dataframe to an interactive table.\"\n",
              "              style=\"display:none;\">\n",
              "        \n",
              "  <svg xmlns=\"http://www.w3.org/2000/svg\" height=\"24px\"viewBox=\"0 0 24 24\"\n",
              "       width=\"24px\">\n",
              "    <path d=\"M0 0h24v24H0V0z\" fill=\"none\"/>\n",
              "    <path d=\"M18.56 5.44l.94 2.06.94-2.06 2.06-.94-2.06-.94-.94-2.06-.94 2.06-2.06.94zm-11 1L8.5 8.5l.94-2.06 2.06-.94-2.06-.94L8.5 2.5l-.94 2.06-2.06.94zm10 10l.94 2.06.94-2.06 2.06-.94-2.06-.94-.94-2.06-.94 2.06-2.06.94z\"/><path d=\"M17.41 7.96l-1.37-1.37c-.4-.4-.92-.59-1.43-.59-.52 0-1.04.2-1.43.59L10.3 9.45l-7.72 7.72c-.78.78-.78 2.05 0 2.83L4 21.41c.39.39.9.59 1.41.59.51 0 1.02-.2 1.41-.59l7.78-7.78 2.81-2.81c.8-.78.8-2.07 0-2.86zM5.41 20L4 18.59l7.72-7.72 1.47 1.35L5.41 20z\"/>\n",
              "  </svg>\n",
              "      </button>\n",
              "      \n",
              "  <style>\n",
              "    .colab-df-container {\n",
              "      display:flex;\n",
              "      flex-wrap:wrap;\n",
              "      gap: 12px;\n",
              "    }\n",
              "\n",
              "    .colab-df-convert {\n",
              "      background-color: #E8F0FE;\n",
              "      border: none;\n",
              "      border-radius: 50%;\n",
              "      cursor: pointer;\n",
              "      display: none;\n",
              "      fill: #1967D2;\n",
              "      height: 32px;\n",
              "      padding: 0 0 0 0;\n",
              "      width: 32px;\n",
              "    }\n",
              "\n",
              "    .colab-df-convert:hover {\n",
              "      background-color: #E2EBFA;\n",
              "      box-shadow: 0px 1px 2px rgba(60, 64, 67, 0.3), 0px 1px 3px 1px rgba(60, 64, 67, 0.15);\n",
              "      fill: #174EA6;\n",
              "    }\n",
              "\n",
              "    [theme=dark] .colab-df-convert {\n",
              "      background-color: #3B4455;\n",
              "      fill: #D2E3FC;\n",
              "    }\n",
              "\n",
              "    [theme=dark] .colab-df-convert:hover {\n",
              "      background-color: #434B5C;\n",
              "      box-shadow: 0px 1px 3px 1px rgba(0, 0, 0, 0.15);\n",
              "      filter: drop-shadow(0px 1px 2px rgba(0, 0, 0, 0.3));\n",
              "      fill: #FFFFFF;\n",
              "    }\n",
              "  </style>\n",
              "\n",
              "      <script>\n",
              "        const buttonEl =\n",
              "          document.querySelector('#df-544a4388-d0d6-4e14-bc1b-a032d8d90066 button.colab-df-convert');\n",
              "        buttonEl.style.display =\n",
              "          google.colab.kernel.accessAllowed ? 'block' : 'none';\n",
              "\n",
              "        async function convertToInteractive(key) {\n",
              "          const element = document.querySelector('#df-544a4388-d0d6-4e14-bc1b-a032d8d90066');\n",
              "          const dataTable =\n",
              "            await google.colab.kernel.invokeFunction('convertToInteractive',\n",
              "                                                     [key], {});\n",
              "          if (!dataTable) return;\n",
              "\n",
              "          const docLinkHtml = 'Like what you see? Visit the ' +\n",
              "            '<a target=\"_blank\" href=https://colab.research.google.com/notebooks/data_table.ipynb>data table notebook</a>'\n",
              "            + ' to learn more about interactive tables.';\n",
              "          element.innerHTML = '';\n",
              "          dataTable['output_type'] = 'display_data';\n",
              "          await google.colab.output.renderOutput(dataTable, element);\n",
              "          const docLink = document.createElement('div');\n",
              "          docLink.innerHTML = docLinkHtml;\n",
              "          element.appendChild(docLink);\n",
              "        }\n",
              "      </script>\n",
              "    </div>\n",
              "  </div>\n",
              "  "
            ]
          },
          "metadata": {},
          "execution_count": 15
        }
      ],
      "source": [
        "rmse_vals = [lr_rmse, ridgecv_rmse, lassocv_rmse, elasticnetcv_rmse]\n",
        "\n",
        "labels = ['Linear', 'Ridge', 'Lasso', 'ElasticNet']\n",
        "\n",
        "rmse_df = pd.Series(rmse_vals, index=labels).to_frame()\n",
        "rmse_df.rename(columns={0:'RMSE'}, inplace=1)\n",
        "rmse_df"
      ]
    },
    {
      "cell_type": "code",
      "execution_count": 16,
      "id": "632e8a53",
      "metadata": {
        "colab": {
          "base_uri": "https://localhost:8080/",
          "height": 404
        },
        "id": "632e8a53",
        "outputId": "f6070680-0559-4de6-d93a-b4d5dd2b39be"
      },
      "outputs": [
        {
          "output_type": "display_data",
          "data": {
            "text/plain": [
              "<Figure size 432x432 with 1 Axes>"
            ],
            "image/png": "[encoded data removed]"
          },
          "metadata": {
            "needs_background": "light"
          }
        }
      ],
      "source": [
        "f = plt.figure(figsize=(6,6))\n",
        "ax= plt.axes()\n",
        "labels = ['Ridge','Lasso','Elasticnet']\n",
        "models = [ridgecv,lassocv,elasticnetcv]\n",
        "          \n",
        "for mod,lab in zip(models,labels):\n",
        "    ax.plot(y_test,mod.predict(X_test),\n",
        "          marker = 'o',ls='',ms=3.0,label=lab)\n",
        "   \n",
        "          \n",
        "leg =  plt.legend(frameon=True)\n",
        "leg.get_frame().set_edgecolor('black')\n",
        "leg.get_frame().set_linewidth(1.0)\n",
        "\n",
        "ax.set(xlabel='Actual Price',\n",
        "     ylabel = 'redicted Price',\n",
        "     title='Linear Regression Results');"
      ]
    },
    {
      "cell_type": "code",
      "execution_count": 17,
      "id": "1e1bf02d",
      "metadata": {
        "colab": {
          "base_uri": "https://localhost:8080/",
          "height": 485
        },
        "id": "1e1bf02d",
        "outputId": "8fb2e3c5-159d-487e-eeec-6080fdb5787d"
      },
      "outputs": [
        {
          "output_type": "execute_result",
          "data": {
            "text/plain": [
              "           Real  Predicted Linear Regression  Predicted Ridge Regression  \\\n",
              "764    9.095068                     9.722260                    9.768061   \n",
              "887    5.272176                     7.087949                    7.077957   \n",
              "890   29.330983                    36.895483                   36.916598   \n",
              "1293   9.301894                     9.562642                    9.605365   \n",
              "259   33.750292                    26.628275                   26.577527   \n",
              "...         ...                          ...                         ...   \n",
              "701    9.541696                    16.329697                   16.160409   \n",
              "672    4.399731                     6.523166                    6.564434   \n",
              "1163   2.200831                     2.464186                    2.461680   \n",
              "1103  11.363283                    14.764184                   14.743781   \n",
              "1295   1.964780                     0.408873                    0.502703   \n",
              "\n",
              "      Predicted Lasso Regression  Predicted ElasticNet Regression  \n",
              "764                     9.722039                         9.726465  \n",
              "887                     7.089036                         7.087956  \n",
              "890                    36.897277                        36.899165  \n",
              "1293                    9.563662                         9.567665  \n",
              "259                    26.627736                        26.622932  \n",
              "...                          ...                              ...  \n",
              "701                    16.324495                        16.308706  \n",
              "672                     6.525258                         6.529011  \n",
              "1163                    2.463962                         2.463730  \n",
              "1103                   14.764429                        14.762430  \n",
              "1295                    0.411487                         0.420250  \n",
              "\n",
              "[402 rows x 5 columns]"
            ],
            "text/html": [
              "\n",
              "  <div id=\"df-5b9fdf4c-90a8-4e10-aceb-da8109dd68e3\">\n",
              "    <div class=\"colab-df-container\">\n",
              "      <div>\n",
              "<style scoped>\n",
              "    .dataframe tbody tr th:only-of-type {\n",
              "        vertical-align: middle;\n",
              "    }\n",
              "\n",
              "    .dataframe tbody tr th {\n",
              "        vertical-align: top;\n",
              "    }\n",
              "\n",
              "    .dataframe thead th {\n",
              "        text-align: right;\n",
              "    }\n",
              "</style>\n",
              "<table border=\"1\" class=\"dataframe\">\n",
              "  <thead>\n",
              "    <tr style=\"text-align: right;\">\n",
              "      <th></th>\n",
              "      <th>Real</th>\n",
              "      <th>Predicted Linear Regression</th>\n",
              "      <th>Predicted Ridge Regression</th>\n",
              "      <th>Predicted Lasso Regression</th>\n",
              "      <th>Predicted ElasticNet Regression</th>\n",
              "    </tr>\n",
              "  </thead>\n",
              "  <tbody>\n",
              "    <tr>\n",
              "      <th>764</th>\n",
              "      <td>9.095068</td>\n",
              "      <td>9.722260</td>\n",
              "      <td>9.768061</td>\n",
              "      <td>9.722039</td>\n",
              "      <td>9.726465</td>\n",
              "    </tr>\n",
              "    <tr>\n",
              "      <th>887</th>\n",
              "      <td>5.272176</td>\n",
              "      <td>7.087949</td>\n",
              "      <td>7.077957</td>\n",
              "      <td>7.089036</td>\n",
              "      <td>7.087956</td>\n",
              "    </tr>\n",
              "    <tr>\n",
              "      <th>890</th>\n",
              "      <td>29.330983</td>\n",
              "      <td>36.895483</td>\n",
              "      <td>36.916598</td>\n",
              "      <td>36.897277</td>\n",
              "      <td>36.899165</td>\n",
              "    </tr>\n",
              "    <tr>\n",
              "      <th>1293</th>\n",
              "      <td>9.301894</td>\n",
              "      <td>9.562642</td>\n",
              "      <td>9.605365</td>\n",
              "      <td>9.563662</td>\n",
              "      <td>9.567665</td>\n",
              "    </tr>\n",
              "    <tr>\n",
              "      <th>259</th>\n",
              "      <td>33.750292</td>\n",
              "      <td>26.628275</td>\n",
              "      <td>26.577527</td>\n",
              "      <td>26.627736</td>\n",
              "      <td>26.622932</td>\n",
              "    </tr>\n",
              "    <tr>\n",
              "      <th>...</th>\n",
              "      <td>...</td>\n",
              "      <td>...</td>\n",
              "      <td>...</td>\n",
              "      <td>...</td>\n",
              "      <td>...</td>\n",
              "    </tr>\n",
              "    <tr>\n",
              "      <th>701</th>\n",
              "      <td>9.541696</td>\n",
              "      <td>16.329697</td>\n",
              "      <td>16.160409</td>\n",
              "      <td>16.324495</td>\n",
              "      <td>16.308706</td>\n",
              "    </tr>\n",
              "    <tr>\n",
              "      <th>672</th>\n",
              "      <td>4.399731</td>\n",
              "      <td>6.523166</td>\n",
              "      <td>6.564434</td>\n",
              "      <td>6.525258</td>\n",
              "      <td>6.529011</td>\n",
              "    </tr>\n",
              "    <tr>\n",
              "      <th>1163</th>\n",
              "      <td>2.200831</td>\n",
              "      <td>2.464186</td>\n",
              "      <td>2.461680</td>\n",
              "      <td>2.463962</td>\n",
              "      <td>2.463730</td>\n",
              "    </tr>\n",
              "    <tr>\n",
              "      <th>1103</th>\n",
              "      <td>11.363283</td>\n",
              "      <td>14.764184</td>\n",
              "      <td>14.743781</td>\n",
              "      <td>14.764429</td>\n",
              "      <td>14.762430</td>\n",
              "    </tr>\n",
              "    <tr>\n",
              "      <th>1295</th>\n",
              "      <td>1.964780</td>\n",
              "      <td>0.408873</td>\n",
              "      <td>0.502703</td>\n",
              "      <td>0.411487</td>\n",
              "      <td>0.420250</td>\n",
              "    </tr>\n",
              "  </tbody>\n",
              "</table>\n",
              "<p>402 rows × 5 columns</p>\n",
              "</div>\n",
              "      <button class=\"colab-df-convert\" onclick=\"convertToInteractive('df-5b9fdf4c-90a8-4e10-aceb-da8109dd68e3')\"\n",
              "              title=\"Convert this dataframe to an interactive table.\"\n",
              "              style=\"display:none;\">\n",
              "        \n",
              "  <svg xmlns=\"http://www.w3.org/2000/svg\" height=\"24px\"viewBox=\"0 0 24 24\"\n",
              "       width=\"24px\">\n",
              "    <path d=\"M0 0h24v24H0V0z\" fill=\"none\"/>\n",
              "    <path d=\"M18.56 5.44l.94 2.06.94-2.06 2.06-.94-2.06-.94-.94-2.06-.94 2.06-2.06.94zm-11 1L8.5 8.5l.94-2.06 2.06-.94-2.06-.94L8.5 2.5l-.94 2.06-2.06.94zm10 10l.94 2.06.94-2.06 2.06-.94-2.06-.94-.94-2.06-.94 2.06-2.06.94z\"/><path d=\"M17.41 7.96l-1.37-1.37c-.4-.4-.92-.59-1.43-.59-.52 0-1.04.2-1.43.59L10.3 9.45l-7.72 7.72c-.78.78-.78 2.05 0 2.83L4 21.41c.39.39.9.59 1.41.59.51 0 1.02-.2 1.41-.59l7.78-7.78 2.81-2.81c.8-.78.8-2.07 0-2.86zM5.41 20L4 18.59l7.72-7.72 1.47 1.35L5.41 20z\"/>\n",
              "  </svg>\n",
              "      </button>\n",
              "      \n",
              "  <style>\n",
              "    .colab-df-container {\n",
              "      display:flex;\n",
              "      flex-wrap:wrap;\n",
              "      gap: 12px;\n",
              "    }\n",
              "\n",
              "    .colab-df-convert {\n",
              "      background-color: #E8F0FE;\n",
              "      border: none;\n",
              "      border-radius: 50%;\n",
              "      cursor: pointer;\n",
              "      display: none;\n",
              "      fill: #1967D2;\n",
              "      height: 32px;\n",
              "      padding: 0 0 0 0;\n",
              "      width: 32px;\n",
              "    }\n",
              "\n",
              "    .colab-df-convert:hover {\n",
              "      background-color: #E2EBFA;\n",
              "      box-shadow: 0px 1px 2px rgba(60, 64, 67, 0.3), 0px 1px 3px 1px rgba(60, 64, 67, 0.15);\n",
              "      fill: #174EA6;\n",
              "    }\n",
              "\n",
              "    [theme=dark] .colab-df-convert {\n",
              "      background-color: #3B4455;\n",
              "      fill: #D2E3FC;\n",
              "    }\n",
              "\n",
              "    [theme=dark] .colab-df-convert:hover {\n",
              "      background-color: #434B5C;\n",
              "      box-shadow: 0px 1px 3px 1px rgba(0, 0, 0, 0.15);\n",
              "      filter: drop-shadow(0px 1px 2px rgba(0, 0, 0, 0.3));\n",
              "      fill: #FFFFFF;\n",
              "    }\n",
              "  </style>\n",
              "\n",
              "      <script>\n",
              "        const buttonEl =\n",
              "          document.querySelector('#df-5b9fdf4c-90a8-4e10-aceb-da8109dd68e3 button.colab-df-convert');\n",
              "        buttonEl.style.display =\n",
              "          google.colab.kernel.accessAllowed ? 'block' : 'none';\n",
              "\n",
              "        async function convertToInteractive(key) {\n",
              "          const element = document.querySelector('#df-5b9fdf4c-90a8-4e10-aceb-da8109dd68e3');\n",
              "          const dataTable =\n",
              "            await google.colab.kernel.invokeFunction('convertToInteractive',\n",
              "                                                     [key], {});\n",
              "          if (!dataTable) return;\n",
              "\n",
              "          const docLinkHtml = 'Like what you see? Visit the ' +\n",
              "            '<a target=\"_blank\" href=https://colab.research.google.com/notebooks/data_table.ipynb>data table notebook</a>'\n",
              "            + ' to learn more about interactive tables.';\n",
              "          element.innerHTML = '';\n",
              "          dataTable['output_type'] = 'display_data';\n",
              "          await google.colab.output.renderOutput(dataTable, element);\n",
              "          const docLink = document.createElement('div');\n",
              "          docLink.innerHTML = docLinkHtml;\n",
              "          element.appendChild(docLink);\n",
              "        }\n",
              "      </script>\n",
              "    </div>\n",
              "  </div>\n",
              "  "
            ]
          },
          "metadata": {},
          "execution_count": 17
        }
      ],
      "source": [
        "df = pd.DataFrame({'Real': y_test, 'Predicted Linear Regression': lr.predict(X_test),'Predicted Ridge Regression': ridgecv.predict(X_test),'Predicted Lasso Regression': lassocv.predict(X_test), 'Predicted ElasticNet Regression': elasticnetcv.predict(X_test) })\n",
        "df"
      ]
    },
    {
      "cell_type": "markdown",
      "source": [
        "**There was not much change in the RMSE metric when using the 4 regression models, even so, the best model for this metric among the 4 was ElasticNet Regression.**"
      ],
      "metadata": {
        "id": "zmiO3TatIaqp"
      },
      "id": "zmiO3TatIaqp"
    }
  ],
  "metadata": {
    "kernelspec": {
      "display_name": "Python 3 (ipykernel)",
      "language": "python",
      "name": "python3"
    },
    "language_info": {
      "codemirror_mode": {
        "name": "ipython",
        "version": 3
      },
      "file_extension": ".py",
      "mimetype": "text/x-python",
      "name": "python",
      "nbconvert_exporter": "python",
      "pygments_lexer": "ipython3",
      "version": "3.9.7"
    },
    "colab": {
      "name": "Exercise.ipynb",
      "provenance": [],
      "include_colab_link": true
    }
  },
  "nbformat": 4,
  "nbformat_minor": 5
}