{
  "nbformat": 4,
  "nbformat_minor": 0,
  "metadata": {
    "colab": {
      "provenance": [],
      "authorship_tag": "ABX9TyNrwC6yAyidBdA7AHMYKR6s",
      "include_colab_link": true
    },
    "kernelspec": {
      "name": "python3",
      "display_name": "Python 3"
    },
    "language_info": {
      "name": "python"
    }
  },
  "cells": [
    {
      "cell_type": "markdown",
      "metadata": {
        "id": "view-in-github",
        "colab_type": "text"
      },
      "source": [
        "<a href=\"https://colab.research.google.com/github/Henriquerezer/Machine_Learning/blob/main/7%20days%20of%20code%20ML/7_DAYS_OF_CODE__ARQUIVO_FINAL.ipynb\" target=\"_parent\"><img src=\"https://colab.research.google.com/assets/colab-badge.svg\" alt=\"Open In Colab\"/></a>"
      ]
    },
    {
      "cell_type": "markdown",
      "source": [
        "<p align=\"center\">\n",
        "  <img src=\"https://user-images.githubusercontent.com/87787728/233119769-ed46065d-d0a5-4b36-bf56-7ac0c68800c1.png\" alt=\"Exemplo de imagem\" />\n",
        "</p>\n"
      ],
      "metadata": {
        "id": "efTZVOiaD3q2"
      }
    },
    {
      "cell_type": "markdown",
      "source": [
        "# Projeto: Desafio 7DAYSOFCODE ML\n",
        "\n",
        "Autor: Henrique Rezer Mosquér\n",
        "Data de Criação: 12/04/2023\n",
        "Data de Atualização: 19/04/2023\n",
        "\n",
        "## Descrição do Projeto\n",
        "\n",
        "Este projeto refere-se ao desafio 7DAYSOFCODE da Alura, o qual consiste em desafios diários por 7 dias, passando por todos os passos da construção de um modelo de ML.\n",
        "\n",
        "Com objetivo classificar a popularidade das músicas, na base de dados do spotify.\n",
        "\n",
        "\n",
        "## Next Steps \n",
        "\n",
        "A classe popularidade, é um valor float de 0 até 100, neste projeto está classe foi transformada para 0 e 1, com valores acima de 65 = 1 e menores que 65 = 0. \n",
        "Para próximos trabalhos, podemos abordar mais classes, e criar mais categorias, e não somente duas."
      ],
      "metadata": {
        "id": "0GnzYY5GHaDr"
      }
    },
    {
      "cell_type": "code",
      "source": [
        "from datetime import date\n",
        "\n",
        "print(\"Data de Execução:\", date.today())"
      ],
      "metadata": {
        "colab": {
          "base_uri": "https://localhost:8080/"
        },
        "id": "bO9ap3JMKdtV",
        "outputId": "9070fbe5-337c-4c51-b3f4-00175795cab8"
      },
      "execution_count": 1,
      "outputs": [
        {
          "output_type": "stream",
          "name": "stdout",
          "text": [
            "Data de Execução: 2023-04-19\n"
          ]
        }
      ]
    },
    {
      "cell_type": "markdown",
      "source": [
        "# 🔎 Ánalise Exploratória "
      ],
      "metadata": {
        "id": "miT6yP4YDHkn"
      }
    },
    {
      "cell_type": "code",
      "execution_count": 2,
      "metadata": {
        "colab": {
          "base_uri": "https://localhost:8080/",
          "height": 337
        },
        "id": "MuG1QuDLs7hW",
        "outputId": "6eab2500-c9bc-4b79-8cb1-77d5f9ae782b"
      },
      "outputs": [
        {
          "output_type": "execute_result",
          "data": {
            "text/plain": [
              "                 track_id                 artists  \\\n",
              "0  5SuOikwiRyPMVoIQDJUgSV             Gen Hoshino   \n",
              "1  4qPNDBW1i3p13qLCt0Ki3A            Ben Woodward   \n",
              "2  1iJBSr7s7jYXzM8EGcbK5b  Ingrid Michaelson;ZAYN   \n",
              "3  6lfxq3CG4xtTiEg7opyCyx            Kina Grannis   \n",
              "4  5vjLSffimiIP26QG5WcN2K        Chord Overstreet   \n",
              "\n",
              "                                          album_name  \\\n",
              "0                                             Comedy   \n",
              "1                                   Ghost (Acoustic)   \n",
              "2                                     To Begin Again   \n",
              "3  Crazy Rich Asians (Original Motion Picture Sou...   \n",
              "4                                            Hold On   \n",
              "\n",
              "                   track_name  popularity  duration_ms  explicit  \\\n",
              "0                      Comedy          73       230666     False   \n",
              "1            Ghost - Acoustic          55       149610     False   \n",
              "2              To Begin Again          57       210826     False   \n",
              "3  Can't Help Falling In Love          71       201933     False   \n",
              "4                     Hold On          82       198853     False   \n",
              "\n",
              "   danceability  energy  key  loudness  mode  speechiness  acousticness  \\\n",
              "0         0.676  0.4610    1    -6.746     0       0.1430        0.0322   \n",
              "1         0.420  0.1660    1   -17.235     1       0.0763        0.9240   \n",
              "2         0.438  0.3590    0    -9.734     1       0.0557        0.2100   \n",
              "3         0.266  0.0596    0   -18.515     1       0.0363        0.9050   \n",
              "4         0.618  0.4430    2    -9.681     1       0.0526        0.4690   \n",
              "\n",
              "   instrumentalness  liveness  valence    tempo  time_signature track_genre  \n",
              "0          0.000001    0.3580    0.715   87.917               4    acoustic  \n",
              "1          0.000006    0.1010    0.267   77.489               4    acoustic  \n",
              "2          0.000000    0.1170    0.120   76.332               4    acoustic  \n",
              "3          0.000071    0.1320    0.143  181.740               3    acoustic  \n",
              "4          0.000000    0.0829    0.167  119.949               4    acoustic  "
            ],
            "text/html": [
              "\n",
              "  <div id=\"df-2c108a54-6ba8-497e-83cb-186d35046ba1\">\n",
              "    <div class=\"colab-df-container\">\n",
              "      <div>\n",
              "<style scoped>\n",
              "    .dataframe tbody tr th:only-of-type {\n",
              "        vertical-align: middle;\n",
              "    }\n",
              "\n",
              "    .dataframe tbody tr th {\n",
              "        vertical-align: top;\n",
              "    }\n",
              "\n",
              "    .dataframe thead th {\n",
              "        text-align: right;\n",
              "    }\n",
              "</style>\n",
              "<table border=\"1\" class=\"dataframe\">\n",
              "  <thead>\n",
              "    <tr style=\"text-align: right;\">\n",
              "      <th></th>\n",
              "      <th>track_id</th>\n",
              "      <th>artists</th>\n",
              "      <th>album_name</th>\n",
              "      <th>track_name</th>\n",
              "      <th>popularity</th>\n",
              "      <th>duration_ms</th>\n",
              "      <th>explicit</th>\n",
              "      <th>danceability</th>\n",
              "      <th>energy</th>\n",
              "      <th>key</th>\n",
              "      <th>loudness</th>\n",
              "      <th>mode</th>\n",
              "      <th>speechiness</th>\n",
              "      <th>acousticness</th>\n",
              "      <th>instrumentalness</th>\n",
              "      <th>liveness</th>\n",
              "      <th>valence</th>\n",
              "      <th>tempo</th>\n",
              "      <th>time_signature</th>\n",
              "      <th>track_genre</th>\n",
              "    </tr>\n",
              "  </thead>\n",
              "  <tbody>\n",
              "    <tr>\n",
              "      <th>0</th>\n",
              "      <td>5SuOikwiRyPMVoIQDJUgSV</td>\n",
              "      <td>Gen Hoshino</td>\n",
              "      <td>Comedy</td>\n",
              "      <td>Comedy</td>\n",
              "      <td>73</td>\n",
              "      <td>230666</td>\n",
              "      <td>False</td>\n",
              "      <td>0.676</td>\n",
              "      <td>0.4610</td>\n",
              "      <td>1</td>\n",
              "      <td>-6.746</td>\n",
              "      <td>0</td>\n",
              "      <td>0.1430</td>\n",
              "      <td>0.0322</td>\n",
              "      <td>0.000001</td>\n",
              "      <td>0.3580</td>\n",
              "      <td>0.715</td>\n",
              "      <td>87.917</td>\n",
              "      <td>4</td>\n",
              "      <td>acoustic</td>\n",
              "    </tr>\n",
              "    <tr>\n",
              "      <th>1</th>\n",
              "      <td>4qPNDBW1i3p13qLCt0Ki3A</td>\n",
              "      <td>Ben Woodward</td>\n",
              "      <td>Ghost (Acoustic)</td>\n",
              "      <td>Ghost - Acoustic</td>\n",
              "      <td>55</td>\n",
              "      <td>149610</td>\n",
              "      <td>False</td>\n",
              "      <td>0.420</td>\n",
              "      <td>0.1660</td>\n",
              "      <td>1</td>\n",
              "      <td>-17.235</td>\n",
              "      <td>1</td>\n",
              "      <td>0.0763</td>\n",
              "      <td>0.9240</td>\n",
              "      <td>0.000006</td>\n",
              "      <td>0.1010</td>\n",
              "      <td>0.267</td>\n",
              "      <td>77.489</td>\n",
              "      <td>4</td>\n",
              "      <td>acoustic</td>\n",
              "    </tr>\n",
              "    <tr>\n",
              "      <th>2</th>\n",
              "      <td>1iJBSr7s7jYXzM8EGcbK5b</td>\n",
              "      <td>Ingrid Michaelson;ZAYN</td>\n",
              "      <td>To Begin Again</td>\n",
              "      <td>To Begin Again</td>\n",
              "      <td>57</td>\n",
              "      <td>210826</td>\n",
              "      <td>False</td>\n",
              "      <td>0.438</td>\n",
              "      <td>0.3590</td>\n",
              "      <td>0</td>\n",
              "      <td>-9.734</td>\n",
              "      <td>1</td>\n",
              "      <td>0.0557</td>\n",
              "      <td>0.2100</td>\n",
              "      <td>0.000000</td>\n",
              "      <td>0.1170</td>\n",
              "      <td>0.120</td>\n",
              "      <td>76.332</td>\n",
              "      <td>4</td>\n",
              "      <td>acoustic</td>\n",
              "    </tr>\n",
              "    <tr>\n",
              "      <th>3</th>\n",
              "      <td>6lfxq3CG4xtTiEg7opyCyx</td>\n",
              "      <td>Kina Grannis</td>\n",
              "      <td>Crazy Rich Asians (Original Motion Picture Sou...</td>\n",
              "      <td>Can't Help Falling In Love</td>\n",
              "      <td>71</td>\n",
              "      <td>201933</td>\n",
              "      <td>False</td>\n",
              "      <td>0.266</td>\n",
              "      <td>0.0596</td>\n",
              "      <td>0</td>\n",
              "      <td>-18.515</td>\n",
              "      <td>1</td>\n",
              "      <td>0.0363</td>\n",
              "      <td>0.9050</td>\n",
              "      <td>0.000071</td>\n",
              "      <td>0.1320</td>\n",
              "      <td>0.143</td>\n",
              "      <td>181.740</td>\n",
              "      <td>3</td>\n",
              "      <td>acoustic</td>\n",
              "    </tr>\n",
              "    <tr>\n",
              "      <th>4</th>\n",
              "      <td>5vjLSffimiIP26QG5WcN2K</td>\n",
              "      <td>Chord Overstreet</td>\n",
              "      <td>Hold On</td>\n",
              "      <td>Hold On</td>\n",
              "      <td>82</td>\n",
              "      <td>198853</td>\n",
              "      <td>False</td>\n",
              "      <td>0.618</td>\n",
              "      <td>0.4430</td>\n",
              "      <td>2</td>\n",
              "      <td>-9.681</td>\n",
              "      <td>1</td>\n",
              "      <td>0.0526</td>\n",
              "      <td>0.4690</td>\n",
              "      <td>0.000000</td>\n",
              "      <td>0.0829</td>\n",
              "      <td>0.167</td>\n",
              "      <td>119.949</td>\n",
              "      <td>4</td>\n",
              "      <td>acoustic</td>\n",
              "    </tr>\n",
              "  </tbody>\n",
              "</table>\n",
              "</div>\n",
              "      <button class=\"colab-df-convert\" onclick=\"convertToInteractive('df-2c108a54-6ba8-497e-83cb-186d35046ba1')\"\n",
              "              title=\"Convert this dataframe to an interactive table.\"\n",
              "              style=\"display:none;\">\n",
              "        \n",
              "  <svg xmlns=\"http://www.w3.org/2000/svg\" height=\"24px\"viewBox=\"0 0 24 24\"\n",
              "       width=\"24px\">\n",
              "    <path d=\"M0 0h24v24H0V0z\" fill=\"none\"/>\n",
              "    <path d=\"M18.56 5.44l.94 2.06.94-2.06 2.06-.94-2.06-.94-.94-2.06-.94 2.06-2.06.94zm-11 1L8.5 8.5l.94-2.06 2.06-.94-2.06-.94L8.5 2.5l-.94 2.06-2.06.94zm10 10l.94 2.06.94-2.06 2.06-.94-2.06-.94-.94-2.06-.94 2.06-2.06.94z\"/><path d=\"M17.41 7.96l-1.37-1.37c-.4-.4-.92-.59-1.43-.59-.52 0-1.04.2-1.43.59L10.3 9.45l-7.72 7.72c-.78.78-.78 2.05 0 2.83L4 21.41c.39.39.9.59 1.41.59.51 0 1.02-.2 1.41-.59l7.78-7.78 2.81-2.81c.8-.78.8-2.07 0-2.86zM5.41 20L4 18.59l7.72-7.72 1.47 1.35L5.41 20z\"/>\n",
              "  </svg>\n",
              "      </button>\n",
              "      \n",
              "  <style>\n",
              "    .colab-df-container {\n",
              "      display:flex;\n",
              "      flex-wrap:wrap;\n",
              "      gap: 12px;\n",
              "    }\n",
              "\n",
              "    .colab-df-convert {\n",
              "      background-color: #E8F0FE;\n",
              "      border: none;\n",
              "      border-radius: 50%;\n",
              "      cursor: pointer;\n",
              "      display: none;\n",
              "      fill: #1967D2;\n",
              "      height: 32px;\n",
              "      padding: 0 0 0 0;\n",
              "      width: 32px;\n",
              "    }\n",
              "\n",
              "    .colab-df-convert:hover {\n",
              "      background-color: #E2EBFA;\n",
              "      box-shadow: 0px 1px 2px rgba(60, 64, 67, 0.3), 0px 1px 3px 1px rgba(60, 64, 67, 0.15);\n",
              "      fill: #174EA6;\n",
              "    }\n",
              "\n",
              "    [theme=dark] .colab-df-convert {\n",
              "      background-color: #3B4455;\n",
              "      fill: #D2E3FC;\n",
              "    }\n",
              "\n",
              "    [theme=dark] .colab-df-convert:hover {\n",
              "      background-color: #434B5C;\n",
              "      box-shadow: 0px 1px 3px 1px rgba(0, 0, 0, 0.15);\n",
              "      filter: drop-shadow(0px 1px 2px rgba(0, 0, 0, 0.3));\n",
              "      fill: #FFFFFF;\n",
              "    }\n",
              "  </style>\n",
              "\n",
              "      <script>\n",
              "        const buttonEl =\n",
              "          document.querySelector('#df-2c108a54-6ba8-497e-83cb-186d35046ba1 button.colab-df-convert');\n",
              "        buttonEl.style.display =\n",
              "          google.colab.kernel.accessAllowed ? 'block' : 'none';\n",
              "\n",
              "        async function convertToInteractive(key) {\n",
              "          const element = document.querySelector('#df-2c108a54-6ba8-497e-83cb-186d35046ba1');\n",
              "          const dataTable =\n",
              "            await google.colab.kernel.invokeFunction('convertToInteractive',\n",
              "                                                     [key], {});\n",
              "          if (!dataTable) return;\n",
              "\n",
              "          const docLinkHtml = 'Like what you see? Visit the ' +\n",
              "            '<a target=\"_blank\" href=https://colab.research.google.com/notebooks/data_table.ipynb>data table notebook</a>'\n",
              "            + ' to learn more about interactive tables.';\n",
              "          element.innerHTML = '';\n",
              "          dataTable['output_type'] = 'display_data';\n",
              "          await google.colab.output.renderOutput(dataTable, element);\n",
              "          const docLink = document.createElement('div');\n",
              "          docLink.innerHTML = docLinkHtml;\n",
              "          element.appendChild(docLink);\n",
              "        }\n",
              "      </script>\n",
              "    </div>\n",
              "  </div>\n",
              "  "
            ]
          },
          "metadata": {},
          "execution_count": 2
        }
      ],
      "source": [
        "import pandas as pd\n",
        "import numpy as np\n",
        "import matplotlib.pyplot as plt\n",
        "import seaborn as sns \n",
        "\n",
        "data = pd.read_csv('https://raw.githubusercontent.com/Henriquerezer/Machine_Learning/main/7%20days%20of%20code%20ML/dataset.csv')\n",
        "data= data.drop('Unnamed: 0', axis = 1)\n",
        "data.head(5)"
      ]
    },
    {
      "cell_type": "code",
      "source": [
        "data.dropna() #remove todos os dados nulos \n",
        "data = data.drop_duplicates() #remove todos os itens duplicados \n",
        "data.info()"
      ],
      "metadata": {
        "colab": {
          "base_uri": "https://localhost:8080/"
        },
        "id": "C_fJW7Q2t0gx",
        "outputId": "8fd6f06d-71f9-475a-dda2-26d474cccc76"
      },
      "execution_count": 3,
      "outputs": [
        {
          "output_type": "stream",
          "name": "stdout",
          "text": [
            "<class 'pandas.core.frame.DataFrame'>\n",
            "Int64Index: 113550 entries, 0 to 113999\n",
            "Data columns (total 20 columns):\n",
            " #   Column            Non-Null Count   Dtype  \n",
            "---  ------            --------------   -----  \n",
            " 0   track_id          113550 non-null  object \n",
            " 1   artists           113549 non-null  object \n",
            " 2   album_name        113549 non-null  object \n",
            " 3   track_name        113549 non-null  object \n",
            " 4   popularity        113550 non-null  int64  \n",
            " 5   duration_ms       113550 non-null  int64  \n",
            " 6   explicit          113550 non-null  bool   \n",
            " 7   danceability      113550 non-null  float64\n",
            " 8   energy            113550 non-null  float64\n",
            " 9   key               113550 non-null  int64  \n",
            " 10  loudness          113550 non-null  float64\n",
            " 11  mode              113550 non-null  int64  \n",
            " 12  speechiness       113550 non-null  float64\n",
            " 13  acousticness      113550 non-null  float64\n",
            " 14  instrumentalness  113550 non-null  float64\n",
            " 15  liveness          113550 non-null  float64\n",
            " 16  valence           113550 non-null  float64\n",
            " 17  tempo             113550 non-null  float64\n",
            " 18  time_signature    113550 non-null  int64  \n",
            " 19  track_genre       113550 non-null  object \n",
            "dtypes: bool(1), float64(9), int64(5), object(5)\n",
            "memory usage: 17.4+ MB\n"
          ]
        }
      ]
    },
    {
      "cell_type": "code",
      "source": [
        "!pip install missingno\n",
        "import missingno as msno\n",
        "\n",
        "msno.matrix(data,color=(1, 0.6, 0) );"
      ],
      "metadata": {
        "id": "SbSCyr_VCZy8"
      },
      "execution_count": null,
      "outputs": []
    },
    {
      "cell_type": "code",
      "source": [
        "popular_artists = data.groupby(\"artists\").count().sort_values(by='popularity', ascending=False)['popularity'][:5]\n",
        "popular_artists"
      ],
      "metadata": {
        "id": "Qhp7nqBgCwWJ"
      },
      "execution_count": null,
      "outputs": []
    },
    {
      "cell_type": "code",
      "source": [
        "popular_artists.plot.barh() ##visualize the data\n",
        "plt.title(\"TOP 5 Most Popular Artists\")\n",
        "plt.show()"
      ],
      "metadata": {
        "id": "yu8X7HBKCwTR"
      },
      "execution_count": null,
      "outputs": []
    },
    {
      "cell_type": "code",
      "source": [
        "long_songs = data[[\"track_name\", \"duration_ms\"]].sort_values(by=\"duration_ms\", ascending=False)[:5]\n",
        "long_songs"
      ],
      "metadata": {
        "id": "ccp4yM38CwRO"
      },
      "execution_count": null,
      "outputs": []
    },
    {
      "cell_type": "code",
      "source": [
        "sns.barplot(x=\"duration_ms\", y=\"track_name\", data= long_songs)\n",
        "plt.title(\"Top 5 Longest songs\")\n",
        "plt.show()"
      ],
      "metadata": {
        "id": "kKum7tndCwOY"
      },
      "execution_count": null,
      "outputs": []
    },
    {
      "cell_type": "code",
      "source": [
        "trend_genre = data[[\"track_genre\", \"popularity\"]].sort_values(by=\"popularity\", ascending=False)[:5]\n",
        "trend_genre"
      ],
      "metadata": {
        "id": "CTFo9dT2CwJx"
      },
      "execution_count": null,
      "outputs": []
    },
    {
      "cell_type": "code",
      "source": [
        "sns.barplot(x=\"track_genre\",y=\"popularity\", data=trend_genre)\n",
        "plt.title(\"Top trending genre\")\n",
        "plt.show()"
      ],
      "metadata": {
        "id": "1wkOD8bdCwHD"
      },
      "execution_count": null,
      "outputs": []
    },
    {
      "cell_type": "code",
      "source": [
        "danceable = data[[\"track_name\", \"artists\", \"danceability\"]].sort_values(by=\"danceability\", ascending=False)[:5]\n",
        "danceable"
      ],
      "metadata": {
        "id": "0WdTCN4NCwFD"
      },
      "execution_count": null,
      "outputs": []
    },
    {
      "cell_type": "code",
      "source": [
        "plt.pie(x=\"danceability\", data=danceable, autopct='%1.2f%%', labels=danceable.track_name)\n",
        "plt.title(\"Top 5 Most Danceable Songs\")\n",
        "plt.show()"
      ],
      "metadata": {
        "id": "zCIq3FcoCwCY"
      },
      "execution_count": null,
      "outputs": []
    },
    {
      "cell_type": "code",
      "source": [
        "data.describe()"
      ],
      "metadata": {
        "id": "xIvUxbVBCv-A"
      },
      "execution_count": null,
      "outputs": []
    },
    {
      "cell_type": "code",
      "source": [
        "corr_table = data.corr(method=\"pearson\")"
      ],
      "metadata": {
        "id": "VjxDphY1Cv74"
      },
      "execution_count": null,
      "outputs": []
    },
    {
      "cell_type": "code",
      "source": [
        "###plotting the correlation table using seaborn\n",
        "plt.figure(figsize=(16,4))\n",
        "sns.heatmap(corr_table, annot=True, fmt=\".1g\")\n",
        "plt.title(\"Correlation Heatmap between variables\")\n",
        "plt.show() #display the plot"
      ],
      "metadata": {
        "id": "6Ls6BBfGCv3u"
      },
      "execution_count": null,
      "outputs": []
    },
    {
      "cell_type": "code",
      "source": [
        "!pip install sweetviz\n",
        "import sweetviz as sv\n",
        "\n",
        "\n",
        "\n",
        "eda = sv.analyze(source = data, target_feat = 'popularity')\n",
        "eda.show_notebook()"
      ],
      "metadata": {
        "id": "PIbeBzueCvud"
      },
      "execution_count": null,
      "outputs": []
    },
    {
      "cell_type": "markdown",
      "source": [
        "# 🛠️ Pré-Processamento"
      ],
      "metadata": {
        "id": "b-129SlgCjVk"
      }
    },
    {
      "cell_type": "code",
      "source": [
        "plt.hist(x=data['popularity'])"
      ],
      "metadata": {
        "id": "TMwp5bNkDTX8"
      },
      "execution_count": null,
      "outputs": []
    },
    {
      "cell_type": "code",
      "source": [
        "sns.boxplot(data['duration_ms']);"
      ],
      "metadata": {
        "id": "XEJpkjT4DTUC"
      },
      "execution_count": null,
      "outputs": []
    },
    {
      "cell_type": "code",
      "source": [
        "data.drop(data[data['duration_ms'] >= 450000].index, inplace = True)\n",
        "\n",
        "condicoes = [data['popularity'] >= 65, data['popularity'] < 65]\n",
        "valores = [1, 0]\n",
        "data['popularity'] = np.select(condicoes, valores)\n",
        "data['popularity'] = data['popularity'].astype(int)"
      ],
      "metadata": {
        "id": "FGrm5zCet2Fm"
      },
      "execution_count": 4,
      "outputs": []
    },
    {
      "cell_type": "code",
      "source": [
        "sns.boxplot(data['duration_ms']);"
      ],
      "metadata": {
        "id": "1XWXEo_EDbU9"
      },
      "execution_count": null,
      "outputs": []
    },
    {
      "cell_type": "code",
      "source": [
        "# Somente colunas quantitativas e que são importantes para o modelo\n",
        "\n",
        "df_quantitative = data\n",
        "cols_to_drop = []\n",
        "for column in data:\n",
        "    if data[column].dtype == 'object':\n",
        "        cols_to_drop.append(column)\n",
        "df_quantitative = data.drop(columns=cols_to_drop)\n",
        "\n",
        "print(f\"Tamanho do dataset que vamos trabalhar: {df_quantitative.shape}\")\n",
        "df_quantitative = df_quantitative.drop(columns=['explicit'])"
      ],
      "metadata": {
        "colab": {
          "base_uri": "https://localhost:8080/"
        },
        "id": "WZixxN5Nt7Ya",
        "outputId": "8c2ad6f8-1f60-467d-a0a1-37cf1c5fb9ec"
      },
      "execution_count": 6,
      "outputs": [
        {
          "output_type": "stream",
          "name": "stdout",
          "text": [
            "Tamanho do dataset que vamos trabalhar: (110880, 15)\n"
          ]
        }
      ]
    },
    {
      "cell_type": "code",
      "source": [
        "df_quantitative_nm=(df_quantitative-df_quantitative.min())/(df_quantitative.max()-df_quantitative.min())\n",
        "df_quantitative_nm"
      ],
      "metadata": {
        "colab": {
          "base_uri": "https://localhost:8080/",
          "height": 424
        },
        "id": "KWNl5Nz1t-U1",
        "outputId": "ee85b51e-6312-4e77-dc63-12688d18df8a"
      },
      "execution_count": 7,
      "outputs": [
        {
          "output_type": "execute_result",
          "data": {
            "text/plain": [
              "        popularity  duration_ms  danceability  energy       key  loudness  \\\n",
              "0              1.0     0.512666      0.686294  0.4610  0.090909  0.791392   \n",
              "1              0.0     0.332515      0.426396  0.1660  0.090909  0.597377   \n",
              "2              0.0     0.468571      0.444670  0.3590  0.000000  0.736123   \n",
              "3              1.0     0.448806      0.270051  0.0596  0.000000  0.573701   \n",
              "4              1.0     0.441960      0.627411  0.4430  0.181818  0.737103   \n",
              "...            ...          ...           ...     ...       ...       ...   \n",
              "113995         0.0     0.855679      0.174619  0.2350  0.454545  0.612952   \n",
              "113996         0.0     0.855681      0.176650  0.1170  0.000000  0.577345   \n",
              "113997         0.0     0.603346      0.638579  0.3290  0.000000  0.714648   \n",
              "113998         0.0     0.630966      0.595939  0.5060  0.636364  0.714759   \n",
              "113999         0.0     0.537470      0.534010  0.4870  0.090909  0.727429   \n",
              "\n",
              "        mode  speechiness  acousticness  instrumentalness  liveness   valence  \\\n",
              "0        0.0     0.148187      0.032329          0.000001    0.3580  0.718593   \n",
              "1        1.0     0.079067      0.927711          0.000006    0.1010  0.268342   \n",
              "2        1.0     0.057720      0.210843          0.000000    0.1170  0.120603   \n",
              "3        1.0     0.037617      0.908635          0.000071    0.1320  0.143719   \n",
              "4        1.0     0.054508      0.470884          0.000000    0.0829  0.167839   \n",
              "...      ...          ...           ...               ...       ...       ...   \n",
              "113995   1.0     0.043731      0.642570          0.928000    0.0863  0.034070   \n",
              "113996   0.0     0.041554      0.997992          0.976000    0.1050  0.035176   \n",
              "113997   0.0     0.043523      0.870482          0.000000    0.0839  0.746734   \n",
              "113998   1.0     0.030777      0.382530          0.000000    0.2700  0.415075   \n",
              "113999   0.0     0.075130      0.683735          0.000000    0.0893  0.711558   \n",
              "\n",
              "           tempo  time_signature  \n",
              "0       0.361245             0.8  \n",
              "1       0.318397             0.8  \n",
              "2       0.313643             0.8  \n",
              "3       0.746758             0.6  \n",
              "4       0.492863             0.8  \n",
              "...          ...             ...  \n",
              "113995  0.517705             1.0  \n",
              "113996  0.350242             0.8  \n",
              "113997  0.543933             0.8  \n",
              "113998  0.558651             0.8  \n",
              "113999  0.325420             0.8  \n",
              "\n",
              "[110880 rows x 14 columns]"
            ],
            "text/html": [
              "\n",
              "  <div id=\"df-07e69d1f-ef8c-4b78-bd1f-bc6f8df7ad00\">\n",
              "    <div class=\"colab-df-container\">\n",
              "      <div>\n",
              "<style scoped>\n",
              "    .dataframe tbody tr th:only-of-type {\n",
              "        vertical-align: middle;\n",
              "    }\n",
              "\n",
              "    .dataframe tbody tr th {\n",
              "        vertical-align: top;\n",
              "    }\n",
              "\n",
              "    .dataframe thead th {\n",
              "        text-align: right;\n",
              "    }\n",
              "</style>\n",
              "<table border=\"1\" class=\"dataframe\">\n",
              "  <thead>\n",
              "    <tr style=\"text-align: right;\">\n",
              "      <th></th>\n",
              "      <th>popularity</th>\n",
              "      <th>duration_ms</th>\n",
              "      <th>danceability</th>\n",
              "      <th>energy</th>\n",
              "      <th>key</th>\n",
              "      <th>loudness</th>\n",
              "      <th>mode</th>\n",
              "      <th>speechiness</th>\n",
              "      <th>acousticness</th>\n",
              "      <th>instrumentalness</th>\n",
              "      <th>liveness</th>\n",
              "      <th>valence</th>\n",
              "      <th>tempo</th>\n",
              "      <th>time_signature</th>\n",
              "    </tr>\n",
              "  </thead>\n",
              "  <tbody>\n",
              "    <tr>\n",
              "      <th>0</th>\n",
              "      <td>1.0</td>\n",
              "      <td>0.512666</td>\n",
              "      <td>0.686294</td>\n",
              "      <td>0.4610</td>\n",
              "      <td>0.090909</td>\n",
              "      <td>0.791392</td>\n",
              "      <td>0.0</td>\n",
              "      <td>0.148187</td>\n",
              "      <td>0.032329</td>\n",
              "      <td>0.000001</td>\n",
              "      <td>0.3580</td>\n",
              "      <td>0.718593</td>\n",
              "      <td>0.361245</td>\n",
              "      <td>0.8</td>\n",
              "    </tr>\n",
              "    <tr>\n",
              "      <th>1</th>\n",
              "      <td>0.0</td>\n",
              "      <td>0.332515</td>\n",
              "      <td>0.426396</td>\n",
              "      <td>0.1660</td>\n",
              "      <td>0.090909</td>\n",
              "      <td>0.597377</td>\n",
              "      <td>1.0</td>\n",
              "      <td>0.079067</td>\n",
              "      <td>0.927711</td>\n",
              "      <td>0.000006</td>\n",
              "      <td>0.1010</td>\n",
              "      <td>0.268342</td>\n",
              "      <td>0.318397</td>\n",
              "      <td>0.8</td>\n",
              "    </tr>\n",
              "    <tr>\n",
              "      <th>2</th>\n",
              "      <td>0.0</td>\n",
              "      <td>0.468571</td>\n",
              "      <td>0.444670</td>\n",
              "      <td>0.3590</td>\n",
              "      <td>0.000000</td>\n",
              "      <td>0.736123</td>\n",
              "      <td>1.0</td>\n",
              "      <td>0.057720</td>\n",
              "      <td>0.210843</td>\n",
              "      <td>0.000000</td>\n",
              "      <td>0.1170</td>\n",
              "      <td>0.120603</td>\n",
              "      <td>0.313643</td>\n",
              "      <td>0.8</td>\n",
              "    </tr>\n",
              "    <tr>\n",
              "      <th>3</th>\n",
              "      <td>1.0</td>\n",
              "      <td>0.448806</td>\n",
              "      <td>0.270051</td>\n",
              "      <td>0.0596</td>\n",
              "      <td>0.000000</td>\n",
              "      <td>0.573701</td>\n",
              "      <td>1.0</td>\n",
              "      <td>0.037617</td>\n",
              "      <td>0.908635</td>\n",
              "      <td>0.000071</td>\n",
              "      <td>0.1320</td>\n",
              "      <td>0.143719</td>\n",
              "      <td>0.746758</td>\n",
              "      <td>0.6</td>\n",
              "    </tr>\n",
              "    <tr>\n",
              "      <th>4</th>\n",
              "      <td>1.0</td>\n",
              "      <td>0.441960</td>\n",
              "      <td>0.627411</td>\n",
              "      <td>0.4430</td>\n",
              "      <td>0.181818</td>\n",
              "      <td>0.737103</td>\n",
              "      <td>1.0</td>\n",
              "      <td>0.054508</td>\n",
              "      <td>0.470884</td>\n",
              "      <td>0.000000</td>\n",
              "      <td>0.0829</td>\n",
              "      <td>0.167839</td>\n",
              "      <td>0.492863</td>\n",
              "      <td>0.8</td>\n",
              "    </tr>\n",
              "    <tr>\n",
              "      <th>...</th>\n",
              "      <td>...</td>\n",
              "      <td>...</td>\n",
              "      <td>...</td>\n",
              "      <td>...</td>\n",
              "      <td>...</td>\n",
              "      <td>...</td>\n",
              "      <td>...</td>\n",
              "      <td>...</td>\n",
              "      <td>...</td>\n",
              "      <td>...</td>\n",
              "      <td>...</td>\n",
              "      <td>...</td>\n",
              "      <td>...</td>\n",
              "      <td>...</td>\n",
              "    </tr>\n",
              "    <tr>\n",
              "      <th>113995</th>\n",
              "      <td>0.0</td>\n",
              "      <td>0.855679</td>\n",
              "      <td>0.174619</td>\n",
              "      <td>0.2350</td>\n",
              "      <td>0.454545</td>\n",
              "      <td>0.612952</td>\n",
              "      <td>1.0</td>\n",
              "      <td>0.043731</td>\n",
              "      <td>0.642570</td>\n",
              "      <td>0.928000</td>\n",
              "      <td>0.0863</td>\n",
              "      <td>0.034070</td>\n",
              "      <td>0.517705</td>\n",
              "      <td>1.0</td>\n",
              "    </tr>\n",
              "    <tr>\n",
              "      <th>113996</th>\n",
              "      <td>0.0</td>\n",
              "      <td>0.855681</td>\n",
              "      <td>0.176650</td>\n",
              "      <td>0.1170</td>\n",
              "      <td>0.000000</td>\n",
              "      <td>0.577345</td>\n",
              "      <td>0.0</td>\n",
              "      <td>0.041554</td>\n",
              "      <td>0.997992</td>\n",
              "      <td>0.976000</td>\n",
              "      <td>0.1050</td>\n",
              "      <td>0.035176</td>\n",
              "      <td>0.350242</td>\n",
              "      <td>0.8</td>\n",
              "    </tr>\n",
              "    <tr>\n",
              "      <th>113997</th>\n",
              "      <td>0.0</td>\n",
              "      <td>0.603346</td>\n",
              "      <td>0.638579</td>\n",
              "      <td>0.3290</td>\n",
              "      <td>0.000000</td>\n",
              "      <td>0.714648</td>\n",
              "      <td>0.0</td>\n",
              "      <td>0.043523</td>\n",
              "      <td>0.870482</td>\n",
              "      <td>0.000000</td>\n",
              "      <td>0.0839</td>\n",
              "      <td>0.746734</td>\n",
              "      <td>0.543933</td>\n",
              "      <td>0.8</td>\n",
              "    </tr>\n",
              "    <tr>\n",
              "      <th>113998</th>\n",
              "      <td>0.0</td>\n",
              "      <td>0.630966</td>\n",
              "      <td>0.595939</td>\n",
              "      <td>0.5060</td>\n",
              "      <td>0.636364</td>\n",
              "      <td>0.714759</td>\n",
              "      <td>1.0</td>\n",
              "      <td>0.030777</td>\n",
              "      <td>0.382530</td>\n",
              "      <td>0.000000</td>\n",
              "      <td>0.2700</td>\n",
              "      <td>0.415075</td>\n",
              "      <td>0.558651</td>\n",
              "      <td>0.8</td>\n",
              "    </tr>\n",
              "    <tr>\n",
              "      <th>113999</th>\n",
              "      <td>0.0</td>\n",
              "      <td>0.537470</td>\n",
              "      <td>0.534010</td>\n",
              "      <td>0.4870</td>\n",
              "      <td>0.090909</td>\n",
              "      <td>0.727429</td>\n",
              "      <td>0.0</td>\n",
              "      <td>0.075130</td>\n",
              "      <td>0.683735</td>\n",
              "      <td>0.000000</td>\n",
              "      <td>0.0893</td>\n",
              "      <td>0.711558</td>\n",
              "      <td>0.325420</td>\n",
              "      <td>0.8</td>\n",
              "    </tr>\n",
              "  </tbody>\n",
              "</table>\n",
              "<p>110880 rows × 14 columns</p>\n",
              "</div>\n",
              "      <button class=\"colab-df-convert\" onclick=\"convertToInteractive('df-07e69d1f-ef8c-4b78-bd1f-bc6f8df7ad00')\"\n",
              "              title=\"Convert this dataframe to an interactive table.\"\n",
              "              style=\"display:none;\">\n",
              "        \n",
              "  <svg xmlns=\"http://www.w3.org/2000/svg\" height=\"24px\"viewBox=\"0 0 24 24\"\n",
              "       width=\"24px\">\n",
              "    <path d=\"M0 0h24v24H0V0z\" fill=\"none\"/>\n",
              "    <path d=\"M18.56 5.44l.94 2.06.94-2.06 2.06-.94-2.06-.94-.94-2.06-.94 2.06-2.06.94zm-11 1L8.5 8.5l.94-2.06 2.06-.94-2.06-.94L8.5 2.5l-.94 2.06-2.06.94zm10 10l.94 2.06.94-2.06 2.06-.94-2.06-.94-.94-2.06-.94 2.06-2.06.94z\"/><path d=\"M17.41 7.96l-1.37-1.37c-.4-.4-.92-.59-1.43-.59-.52 0-1.04.2-1.43.59L10.3 9.45l-7.72 7.72c-.78.78-.78 2.05 0 2.83L4 21.41c.39.39.9.59 1.41.59.51 0 1.02-.2 1.41-.59l7.78-7.78 2.81-2.81c.8-.78.8-2.07 0-2.86zM5.41 20L4 18.59l7.72-7.72 1.47 1.35L5.41 20z\"/>\n",
              "  </svg>\n",
              "      </button>\n",
              "      \n",
              "  <style>\n",
              "    .colab-df-container {\n",
              "      display:flex;\n",
              "      flex-wrap:wrap;\n",
              "      gap: 12px;\n",
              "    }\n",
              "\n",
              "    .colab-df-convert {\n",
              "      background-color: #E8F0FE;\n",
              "      border: none;\n",
              "      border-radius: 50%;\n",
              "      cursor: pointer;\n",
              "      display: none;\n",
              "      fill: #1967D2;\n",
              "      height: 32px;\n",
              "      padding: 0 0 0 0;\n",
              "      width: 32px;\n",
              "    }\n",
              "\n",
              "    .colab-df-convert:hover {\n",
              "      background-color: #E2EBFA;\n",
              "      box-shadow: 0px 1px 2px rgba(60, 64, 67, 0.3), 0px 1px 3px 1px rgba(60, 64, 67, 0.15);\n",
              "      fill: #174EA6;\n",
              "    }\n",
              "\n",
              "    [theme=dark] .colab-df-convert {\n",
              "      background-color: #3B4455;\n",
              "      fill: #D2E3FC;\n",
              "    }\n",
              "\n",
              "    [theme=dark] .colab-df-convert:hover {\n",
              "      background-color: #434B5C;\n",
              "      box-shadow: 0px 1px 3px 1px rgba(0, 0, 0, 0.15);\n",
              "      filter: drop-shadow(0px 1px 2px rgba(0, 0, 0, 0.3));\n",
              "      fill: #FFFFFF;\n",
              "    }\n",
              "  </style>\n",
              "\n",
              "      <script>\n",
              "        const buttonEl =\n",
              "          document.querySelector('#df-07e69d1f-ef8c-4b78-bd1f-bc6f8df7ad00 button.colab-df-convert');\n",
              "        buttonEl.style.display =\n",
              "          google.colab.kernel.accessAllowed ? 'block' : 'none';\n",
              "\n",
              "        async function convertToInteractive(key) {\n",
              "          const element = document.querySelector('#df-07e69d1f-ef8c-4b78-bd1f-bc6f8df7ad00');\n",
              "          const dataTable =\n",
              "            await google.colab.kernel.invokeFunction('convertToInteractive',\n",
              "                                                     [key], {});\n",
              "          if (!dataTable) return;\n",
              "\n",
              "          const docLinkHtml = 'Like what you see? Visit the ' +\n",
              "            '<a target=\"_blank\" href=https://colab.research.google.com/notebooks/data_table.ipynb>data table notebook</a>'\n",
              "            + ' to learn more about interactive tables.';\n",
              "          element.innerHTML = '';\n",
              "          dataTable['output_type'] = 'display_data';\n",
              "          await google.colab.output.renderOutput(dataTable, element);\n",
              "          const docLink = document.createElement('div');\n",
              "          docLink.innerHTML = docLinkHtml;\n",
              "          element.appendChild(docLink);\n",
              "        }\n",
              "      </script>\n",
              "    </div>\n",
              "  </div>\n",
              "  "
            ]
          },
          "metadata": {},
          "execution_count": 7
        }
      ]
    },
    {
      "cell_type": "markdown",
      "source": [
        "# ➗ Divisão do nossos DADOS em (treino e teste)"
      ],
      "metadata": {
        "id": "ge28tG7luHkH"
      }
    },
    {
      "cell_type": "markdown",
      "source": [
        "Importando bibliotecas"
      ],
      "metadata": {
        "id": "Z9UNPSr4vFWL"
      }
    },
    {
      "cell_type": "code",
      "source": [
        "from sklearn.model_selection import train_test_split\n",
        "from sklearn.model_selection import StratifiedKFold"
      ],
      "metadata": {
        "id": "z5NHv5MyuNWJ"
      },
      "execution_count": 8,
      "outputs": []
    },
    {
      "cell_type": "code",
      "source": [
        "# Separando os dados para treino e teste\n",
        "df_train, df_test = train_test_split(df_quantitative_nm, test_size=0.2, random_state=42, shuffle=True)"
      ],
      "metadata": {
        "id": "PF_JIIr_vHon"
      },
      "execution_count": 9,
      "outputs": []
    },
    {
      "cell_type": "code",
      "source": [
        "# visualizando as proporções da variável alvo\n",
        "df_train.popularity.value_counts(normalize=True)"
      ],
      "metadata": {
        "colab": {
          "base_uri": "https://localhost:8080/"
        },
        "id": "A0Vbd3vhvWJa",
        "outputId": "8c051be1-2f06-4732-e18f-11631fd8fca7"
      },
      "execution_count": 10,
      "outputs": [
        {
          "output_type": "execute_result",
          "data": {
            "text/plain": [
              "0.0    0.914739\n",
              "1.0    0.085261\n",
              "Name: popularity, dtype: float64"
            ]
          },
          "metadata": {},
          "execution_count": 10
        }
      ]
    },
    {
      "cell_type": "code",
      "source": [
        "# dividindo X e y\n",
        "X = df_train.drop('popularity', axis=1)\n",
        "y = df_train.popularity\n",
        "\n",
        "# separando os dados mantendo a porcentagem de amostras em cada classe\n",
        "StratifKfold = StratifiedKFold(n_splits=5, shuffle=True, random_state=42)"
      ],
      "metadata": {
        "id": "hN5Yl5tVvZnJ"
      },
      "execution_count": 11,
      "outputs": []
    },
    {
      "cell_type": "code",
      "source": [
        "# looping para separar os dados em treino e validação\n",
        "for train_index, val_index in StratifKfold.split(X, y):\n",
        "\n",
        "    X_train, X_val = X.iloc[train_index], X.iloc[val_index]\n",
        "    y_train, y_val = y.iloc[train_index], y.iloc[val_index]"
      ],
      "metadata": {
        "id": "KuTXNNzVvpz-"
      },
      "execution_count": 12,
      "outputs": []
    },
    {
      "cell_type": "code",
      "source": [
        "# checando as proporções da classe 1 na divisão\n",
        "print(f'Dimensões: {X_train.shape, X_val.shape, y_train.shape, y_val.shape}\\n')\n",
        "print(f\"Proporção do df_train para classe=1: {round(len(df_train[df_train.popularity==1]) / df_train.shape[0], 4)}\\n\")\n",
        "print(f\"Proporção de X_train para classe=1:  {round(len(y_train[y_train==1]) / X_train.shape[0], 4)}\")\n",
        "print(f\"Proporção de X_val para classe=1:    {round(len(y_val[y_val==1]) / X_val.shape[0], 4)}\")"
      ],
      "metadata": {
        "colab": {
          "base_uri": "https://localhost:8080/"
        },
        "id": "G52z0llZvy01",
        "outputId": "cd26786b-7171-4c4e-ac8e-420bc6048200"
      },
      "execution_count": 13,
      "outputs": [
        {
          "output_type": "stream",
          "name": "stdout",
          "text": [
            "Dimensões: ((70964, 13), (17740, 13), (70964,), (17740,))\n",
            "\n",
            "Proporção do df_train para classe=1: 0.0853\n",
            "\n",
            "Proporção de X_train para classe=1:  0.0853\n",
            "Proporção de X_val para classe=1:    0.0852\n"
          ]
        }
      ]
    },
    {
      "cell_type": "markdown",
      "source": [
        "# 🌡 Definindo um modelo Básico"
      ],
      "metadata": {
        "id": "U52zENGHxjk7"
      }
    },
    {
      "cell_type": "markdown",
      "source": [
        "Um modelo baseline (ou modelo de referência) é um modelo simples que fornece um ponto de partida para o desenvolvimento de modelos mais avançados em um problema de machine learning. Geralmente, é um modelo simples que é fácil de implementar e que usa uma abordagem de modelagem básica, como a média ou a moda, para prever uma variável alvo.\n",
        "\n",
        "O modelo baseline é usado para avaliar a eficácia de modelos mais avançados, comparando suas métricas de desempenho, como precisão ou recall, com as do modelo de referência. Se um modelo mais avançado não superar significativamente o modelo baseline, pode ser considerado ineficaz ou desnecessariamente complexo.\n",
        "\n",
        "O modelo baseline também é útil para estabelecer um ponto de comparação com outros modelos desenvolvidos pela comunidade científica em uma determinada área. Por exemplo, um modelo baseline pode ser estabelecido para um conjunto de dados público e, em seguida, os modelos desenvolvidos pelos pesquisadores podem ser comparados com o modelo de referência para avaliar o avanço em relação ao estado da arte."
      ],
      "metadata": {
        "id": "sHV-1FmKxo48"
      }
    },
    {
      "cell_type": "code",
      "source": [
        "from sklearn.linear_model import LogisticRegression"
      ],
      "metadata": {
        "id": "CDH04C3wxLpr"
      },
      "execution_count": 14,
      "outputs": []
    },
    {
      "cell_type": "code",
      "source": [
        "\n",
        "# Instanciando o modelo\n",
        "logReg = LogisticRegression()\n",
        "\n",
        "# Treinando o modelo\n",
        "logReg.fit(X_train, y_train)\n",
        "\n",
        "# Prevendo nos dados de treino\n",
        "y_pred_base_train = logReg.predict(X_train)\n",
        "\n",
        "# Prevendo nos dados de validação\n",
        "y_pred_base_val = logReg.predict(X_val)"
      ],
      "metadata": {
        "id": "Nnoe8a_vxMJv"
      },
      "execution_count": 15,
      "outputs": []
    },
    {
      "cell_type": "code",
      "source": [
        "df_coef = df_quantitative_nm.drop(columns='popularity')\n",
        "df_coef.columns"
      ],
      "metadata": {
        "colab": {
          "base_uri": "https://localhost:8080/"
        },
        "id": "BR-6SVVDxR_E",
        "outputId": "f45a37eb-4531-40c0-caf6-2f2d2d9d5eb7"
      },
      "execution_count": 16,
      "outputs": [
        {
          "output_type": "execute_result",
          "data": {
            "text/plain": [
              "Index(['duration_ms', 'danceability', 'energy', 'key', 'loudness', 'mode',\n",
              "       'speechiness', 'acousticness', 'instrumentalness', 'liveness',\n",
              "       'valence', 'tempo', 'time_signature'],\n",
              "      dtype='object')"
            ]
          },
          "metadata": {},
          "execution_count": 16
        }
      ]
    },
    {
      "cell_type": "code",
      "source": [
        "data = {\n",
        "    \"Features\": df_coef.columns,\n",
        "    \"Coef\": logReg.coef_.tolist()[0]\n",
        "}\n",
        "\n",
        "df = pd.DataFrame(data)\n",
        "df"
      ],
      "metadata": {
        "colab": {
          "base_uri": "https://localhost:8080/",
          "height": 457
        },
        "id": "OuC9bWs4xU2h",
        "outputId": "65b888b1-495e-4d77-d968-8ff8d2a7f9fb"
      },
      "execution_count": 17,
      "outputs": [
        {
          "output_type": "execute_result",
          "data": {
            "text/plain": [
              "            Features      Coef\n",
              "0        duration_ms -0.100437\n",
              "1       danceability  0.980946\n",
              "2             energy -1.225153\n",
              "3                key  0.045963\n",
              "4           loudness  3.181279\n",
              "5               mode -0.108705\n",
              "6        speechiness -1.371848\n",
              "7       acousticness -0.974692\n",
              "8   instrumentalness -1.721506\n",
              "9           liveness -1.236400\n",
              "10           valence -0.359937\n",
              "11             tempo -0.545772\n",
              "12    time_signature  0.170132"
            ],
            "text/html": [
              "\n",
              "  <div id=\"df-8b495fcb-39a4-47da-bc22-def507ce2a4d\">\n",
              "    <div class=\"colab-df-container\">\n",
              "      <div>\n",
              "<style scoped>\n",
              "    .dataframe tbody tr th:only-of-type {\n",
              "        vertical-align: middle;\n",
              "    }\n",
              "\n",
              "    .dataframe tbody tr th {\n",
              "        vertical-align: top;\n",
              "    }\n",
              "\n",
              "    .dataframe thead th {\n",
              "        text-align: right;\n",
              "    }\n",
              "</style>\n",
              "<table border=\"1\" class=\"dataframe\">\n",
              "  <thead>\n",
              "    <tr style=\"text-align: right;\">\n",
              "      <th></th>\n",
              "      <th>Features</th>\n",
              "      <th>Coef</th>\n",
              "    </tr>\n",
              "  </thead>\n",
              "  <tbody>\n",
              "    <tr>\n",
              "      <th>0</th>\n",
              "      <td>duration_ms</td>\n",
              "      <td>-0.100437</td>\n",
              "    </tr>\n",
              "    <tr>\n",
              "      <th>1</th>\n",
              "      <td>danceability</td>\n",
              "      <td>0.980946</td>\n",
              "    </tr>\n",
              "    <tr>\n",
              "      <th>2</th>\n",
              "      <td>energy</td>\n",
              "      <td>-1.225153</td>\n",
              "    </tr>\n",
              "    <tr>\n",
              "      <th>3</th>\n",
              "      <td>key</td>\n",
              "      <td>0.045963</td>\n",
              "    </tr>\n",
              "    <tr>\n",
              "      <th>4</th>\n",
              "      <td>loudness</td>\n",
              "      <td>3.181279</td>\n",
              "    </tr>\n",
              "    <tr>\n",
              "      <th>5</th>\n",
              "      <td>mode</td>\n",
              "      <td>-0.108705</td>\n",
              "    </tr>\n",
              "    <tr>\n",
              "      <th>6</th>\n",
              "      <td>speechiness</td>\n",
              "      <td>-1.371848</td>\n",
              "    </tr>\n",
              "    <tr>\n",
              "      <th>7</th>\n",
              "      <td>acousticness</td>\n",
              "      <td>-0.974692</td>\n",
              "    </tr>\n",
              "    <tr>\n",
              "      <th>8</th>\n",
              "      <td>instrumentalness</td>\n",
              "      <td>-1.721506</td>\n",
              "    </tr>\n",
              "    <tr>\n",
              "      <th>9</th>\n",
              "      <td>liveness</td>\n",
              "      <td>-1.236400</td>\n",
              "    </tr>\n",
              "    <tr>\n",
              "      <th>10</th>\n",
              "      <td>valence</td>\n",
              "      <td>-0.359937</td>\n",
              "    </tr>\n",
              "    <tr>\n",
              "      <th>11</th>\n",
              "      <td>tempo</td>\n",
              "      <td>-0.545772</td>\n",
              "    </tr>\n",
              "    <tr>\n",
              "      <th>12</th>\n",
              "      <td>time_signature</td>\n",
              "      <td>0.170132</td>\n",
              "    </tr>\n",
              "  </tbody>\n",
              "</table>\n",
              "</div>\n",
              "      <button class=\"colab-df-convert\" onclick=\"convertToInteractive('df-8b495fcb-39a4-47da-bc22-def507ce2a4d')\"\n",
              "              title=\"Convert this dataframe to an interactive table.\"\n",
              "              style=\"display:none;\">\n",
              "        \n",
              "  <svg xmlns=\"http://www.w3.org/2000/svg\" height=\"24px\"viewBox=\"0 0 24 24\"\n",
              "       width=\"24px\">\n",
              "    <path d=\"M0 0h24v24H0V0z\" fill=\"none\"/>\n",
              "    <path d=\"M18.56 5.44l.94 2.06.94-2.06 2.06-.94-2.06-.94-.94-2.06-.94 2.06-2.06.94zm-11 1L8.5 8.5l.94-2.06 2.06-.94-2.06-.94L8.5 2.5l-.94 2.06-2.06.94zm10 10l.94 2.06.94-2.06 2.06-.94-2.06-.94-.94-2.06-.94 2.06-2.06.94z\"/><path d=\"M17.41 7.96l-1.37-1.37c-.4-.4-.92-.59-1.43-.59-.52 0-1.04.2-1.43.59L10.3 9.45l-7.72 7.72c-.78.78-.78 2.05 0 2.83L4 21.41c.39.39.9.59 1.41.59.51 0 1.02-.2 1.41-.59l7.78-7.78 2.81-2.81c.8-.78.8-2.07 0-2.86zM5.41 20L4 18.59l7.72-7.72 1.47 1.35L5.41 20z\"/>\n",
              "  </svg>\n",
              "      </button>\n",
              "      \n",
              "  <style>\n",
              "    .colab-df-container {\n",
              "      display:flex;\n",
              "      flex-wrap:wrap;\n",
              "      gap: 12px;\n",
              "    }\n",
              "\n",
              "    .colab-df-convert {\n",
              "      background-color: #E8F0FE;\n",
              "      border: none;\n",
              "      border-radius: 50%;\n",
              "      cursor: pointer;\n",
              "      display: none;\n",
              "      fill: #1967D2;\n",
              "      height: 32px;\n",
              "      padding: 0 0 0 0;\n",
              "      width: 32px;\n",
              "    }\n",
              "\n",
              "    .colab-df-convert:hover {\n",
              "      background-color: #E2EBFA;\n",
              "      box-shadow: 0px 1px 2px rgba(60, 64, 67, 0.3), 0px 1px 3px 1px rgba(60, 64, 67, 0.15);\n",
              "      fill: #174EA6;\n",
              "    }\n",
              "\n",
              "    [theme=dark] .colab-df-convert {\n",
              "      background-color: #3B4455;\n",
              "      fill: #D2E3FC;\n",
              "    }\n",
              "\n",
              "    [theme=dark] .colab-df-convert:hover {\n",
              "      background-color: #434B5C;\n",
              "      box-shadow: 0px 1px 3px 1px rgba(0, 0, 0, 0.15);\n",
              "      filter: drop-shadow(0px 1px 2px rgba(0, 0, 0, 0.3));\n",
              "      fill: #FFFFFF;\n",
              "    }\n",
              "  </style>\n",
              "\n",
              "      <script>\n",
              "        const buttonEl =\n",
              "          document.querySelector('#df-8b495fcb-39a4-47da-bc22-def507ce2a4d button.colab-df-convert');\n",
              "        buttonEl.style.display =\n",
              "          google.colab.kernel.accessAllowed ? 'block' : 'none';\n",
              "\n",
              "        async function convertToInteractive(key) {\n",
              "          const element = document.querySelector('#df-8b495fcb-39a4-47da-bc22-def507ce2a4d');\n",
              "          const dataTable =\n",
              "            await google.colab.kernel.invokeFunction('convertToInteractive',\n",
              "                                                     [key], {});\n",
              "          if (!dataTable) return;\n",
              "\n",
              "          const docLinkHtml = 'Like what you see? Visit the ' +\n",
              "            '<a target=\"_blank\" href=https://colab.research.google.com/notebooks/data_table.ipynb>data table notebook</a>'\n",
              "            + ' to learn more about interactive tables.';\n",
              "          element.innerHTML = '';\n",
              "          dataTable['output_type'] = 'display_data';\n",
              "          await google.colab.output.renderOutput(dataTable, element);\n",
              "          const docLink = document.createElement('div');\n",
              "          docLink.innerHTML = docLinkHtml;\n",
              "          element.appendChild(docLink);\n",
              "        }\n",
              "      </script>\n",
              "    </div>\n",
              "  </div>\n",
              "  "
            ]
          },
          "metadata": {},
          "execution_count": 17
        }
      ]
    },
    {
      "cell_type": "code",
      "source": [
        "from sklearn.metrics import accuracy_score\n",
        "print('Acurácia do modelo é: ', round(accuracy_score(y_val, y_pred_base_val),2) * 100, '%')"
      ],
      "metadata": {
        "colab": {
          "base_uri": "https://localhost:8080/"
        },
        "id": "XPvEHgQf_bEe",
        "outputId": "1d979739-2afc-42b8-fea8-cdce3cc5769c"
      },
      "execution_count": 18,
      "outputs": [
        {
          "output_type": "stream",
          "name": "stdout",
          "text": [
            "Acurácia do modelo é:  91.0 %\n"
          ]
        }
      ]
    },
    {
      "cell_type": "code",
      "source": [
        "from sklearn.metrics import f1_score\n",
        "f1_score(y_val, y_pred_base_val, average='macro')"
      ],
      "metadata": {
        "colab": {
          "base_uri": "https://localhost:8080/"
        },
        "id": "mUz5YPbYAE0i",
        "outputId": "a4ee62e3-c99c-46f2-f7a0-ca1edc115533"
      },
      "execution_count": 19,
      "outputs": [
        {
          "output_type": "execute_result",
          "data": {
            "text/plain": [
              "0.4777437588318417"
            ]
          },
          "metadata": {},
          "execution_count": 19
        }
      ]
    },
    {
      "cell_type": "code",
      "source": [
        "from sklearn.metrics import recall_score\n",
        "recall_score(y_val, y_pred_base_val, average='macro')"
      ],
      "metadata": {
        "colab": {
          "base_uri": "https://localhost:8080/"
        },
        "id": "oPPpp9cyA6Fw",
        "outputId": "bb1c671c-8842-4fdb-8eed-fa3f236569a8"
      },
      "execution_count": 20,
      "outputs": [
        {
          "output_type": "execute_result",
          "data": {
            "text/plain": [
              "0.5"
            ]
          },
          "metadata": {},
          "execution_count": 20
        }
      ]
    },
    {
      "cell_type": "code",
      "source": [
        "from yellowbrick.classifier import ConfusionMatrix\n",
        "cm = ConfusionMatrix(logReg, classes=[0,1])\n",
        "cm.score(X_val, y_val)\n",
        "cm.show()"
      ],
      "metadata": {
        "colab": {
          "base_uri": "https://localhost:8080/",
          "height": 603
        },
        "id": "Ip9OD4_6BG9X",
        "outputId": "1d59fda1-d887-487a-e441-6218f1bba551"
      },
      "execution_count": 21,
      "outputs": [
        {
          "output_type": "stream",
          "name": "stderr",
          "text": [
            "/usr/local/lib/python3.9/dist-packages/yellowbrick/classifier/base.py:232: YellowbrickWarning: could not determine class_counts_ from previously fitted classifier\n",
            "  warnings.warn(\n"
          ]
        },
        {
          "output_type": "display_data",
          "data": {
            "text/plain": [
              "<Figure size 800x550 with 1 Axes>"
            ],
            "image/png": "[encoded data removed]"
          },
          "metadata": {}
        },
        {
          "output_type": "execute_result",
          "data": {
            "text/plain": [
              "<Axes: title={'center': 'LogisticRegression Confusion Matrix'}, xlabel='Predicted Class', ylabel='True Class'>"
            ]
          },
          "metadata": {},
          "execution_count": 21
        }
      ]
    },
    {
      "cell_type": "code",
      "source": [
        "from sklearn.metrics import confusion_matrix\n",
        "confusion_matrix(y_val, y_pred_base_val)"
      ],
      "metadata": {
        "colab": {
          "base_uri": "https://localhost:8080/"
        },
        "id": "l0qjBZdACGHE",
        "outputId": "902f1a39-2379-4c1c-9ac6-6c66ff3c7594"
      },
      "execution_count": 22,
      "outputs": [
        {
          "output_type": "execute_result",
          "data": {
            "text/plain": [
              "array([[16228,     0],\n",
              "       [ 1512,     0]])"
            ]
          },
          "metadata": {},
          "execution_count": 22
        }
      ]
    },
    {
      "cell_type": "code",
      "source": [
        "from sklearn.metrics import precision_score\n",
        "print('Nos dados de TREINO:')\n",
        "\n",
        "print('---' * 20)\n",
        "print('Modelo:    Regressão Logística (baseline)\\n')\n",
        "print(f\"accuracy:  {accuracy_score(y_train, y_pred_base_train)}\")\n",
        "print(f\"precision: {precision_score(y_train, y_pred_base_train)}\")\n",
        "print(f\"recall:    {recall_score(y_train, y_pred_base_train)}\")\n",
        "print(f\"f1:        {f1_score(y_train, y_pred_base_train)}\")\n",
        "print()\n",
        "print('---' * 20)\n",
        "print('---' * 20)\n",
        "print()\n",
        "print('Nos dados de VALIDAÇÃO:')\n",
        "print('---' * 20)\n",
        "print('Modelo:    Regressão Logística (baseline)\\n')\n",
        "print(f\"accuracy:  {accuracy_score(y_val, y_pred_base_val)}\")\n",
        "print(f\"precision: {precision_score(y_val, y_pred_base_val)}\")\n",
        "print(f\"recall:    {recall_score(y_val, y_pred_base_val)}\")\n",
        "print(f\"f1:        {f1_score(y_val, y_pred_base_val)}\")\n",
        "print('---' * 20)"
      ],
      "metadata": {
        "colab": {
          "base_uri": "https://localhost:8080/"
        },
        "id": "a4HOsLVWDFc7",
        "outputId": "a198c445-e0ef-4f7a-8ca4-bb247a89bc7d"
      },
      "execution_count": 23,
      "outputs": [
        {
          "output_type": "stream",
          "name": "stdout",
          "text": [
            "Nos dados de TREINO:\n",
            "------------------------------------------------------------\n",
            "Modelo:    Regressão Logística (baseline)\n",
            "\n",
            "accuracy:  0.9147314131108731\n",
            "precision: 0.0\n",
            "recall:    0.0\n",
            "f1:        0.0\n",
            "\n",
            "------------------------------------------------------------\n",
            "------------------------------------------------------------\n",
            "\n",
            "Nos dados de VALIDAÇÃO:\n",
            "------------------------------------------------------------\n",
            "Modelo:    Regressão Logística (baseline)\n",
            "\n",
            "accuracy:  0.9147688838782413\n",
            "precision: 0.0\n",
            "recall:    0.0\n",
            "f1:        0.0\n",
            "------------------------------------------------------------\n"
          ]
        },
        {
          "output_type": "stream",
          "name": "stderr",
          "text": [
            "/usr/local/lib/python3.9/dist-packages/sklearn/metrics/_classification.py:1344: UndefinedMetricWarning: Precision is ill-defined and being set to 0.0 due to no predicted samples. Use `zero_division` parameter to control this behavior.\n",
            "  _warn_prf(average, modifier, msg_start, len(result))\n",
            "/usr/local/lib/python3.9/dist-packages/sklearn/metrics/_classification.py:1344: UndefinedMetricWarning: Precision is ill-defined and being set to 0.0 due to no predicted samples. Use `zero_division` parameter to control this behavior.\n",
            "  _warn_prf(average, modifier, msg_start, len(result))\n"
          ]
        }
      ]
    },
    {
      "cell_type": "markdown",
      "source": [
        "# 🎲 Reamostragem, teste e validação"
      ],
      "metadata": {
        "id": "T3PRIpQlk51I"
      }
    },
    {
      "cell_type": "code",
      "source": [
        "from sklearn.tree import DecisionTreeClassifier\n",
        "from sklearn.neighbors import KNeighborsClassifier\n",
        "from sklearn.linear_model import LogisticRegression\n",
        "from sklearn.ensemble import RandomForestClassifier\n",
        "\n",
        "# Dicionário dos classificadores\n",
        "classifiers = {\n",
        "    \"LogisiticRegression\": LogisticRegression(),\n",
        "    \"KNearest\": KNeighborsClassifier(),\n",
        "    \"DecisionTreeClassifier\": DecisionTreeClassifier(), \n",
        "    \"Random Forest\": RandomForestClassifier()\n",
        "}"
      ],
      "metadata": {
        "id": "F1cB-ngik_DQ"
      },
      "execution_count": 24,
      "outputs": []
    },
    {
      "cell_type": "markdown",
      "source": [
        "## Distribuição"
      ],
      "metadata": {
        "id": "J2v2u_SnlNRk"
      }
    },
    {
      "cell_type": "code",
      "source": [
        "# Reamostragem dos dados\n",
        "from imblearn.over_sampling import SMOTE, RandomOverSampler\n",
        "from imblearn.under_sampling import NearMiss, RandomUnderSampler\n",
        "from collections import Counter\n",
        "\n",
        "# instanciando o método\n",
        "undersample = NearMiss()\n",
        "\n",
        "# transformando o conjunto de dados\n",
        "X_under, y_under = undersample.fit_resample(X_train, y_train)\n",
        "\n",
        "# resumindo a distribuição da nova classe\n",
        "counter = Counter(y_under)\n",
        "print(counter)"
      ],
      "metadata": {
        "colab": {
          "base_uri": "https://localhost:8080/"
        },
        "id": "9X60f5pglKXy",
        "outputId": "05129692-782a-4fe3-a296-371f623ad51f"
      },
      "execution_count": 25,
      "outputs": [
        {
          "output_type": "stream",
          "name": "stdout",
          "text": [
            "Counter({0.0: 6051, 1.0: 6051})\n"
          ]
        }
      ]
    },
    {
      "cell_type": "code",
      "source": [
        "for nome, model in classifiers.items():\n",
        "    \n",
        "    model.fit(X_under, y_under)\n",
        "    y_pred = model.predict(X_val)\n",
        "    \n",
        "    print(f'Modelo:    {nome}\\n')\n",
        "    print(f\"accuracy:  {accuracy_score(y_val, y_pred)}\")\n",
        "    print(f\"precision: {precision_score(y_val, y_pred)}\")\n",
        "    print(f\"recall:    {recall_score(y_val, y_pred)}\")\n",
        "    print(f\"f1:        {f1_score(y_val, y_pred)}\")\n",
        "    print('---' * 20)\n",
        "    print('---' * 20)"
      ],
      "metadata": {
        "colab": {
          "base_uri": "https://localhost:8080/"
        },
        "id": "BEdWqiYwlk4X",
        "outputId": "3f4b7545-3cbe-4bd4-82d1-1dee3c2553e2"
      },
      "execution_count": 26,
      "outputs": [
        {
          "output_type": "stream",
          "name": "stdout",
          "text": [
            "Modelo:    LogisiticRegression\n",
            "\n",
            "accuracy:  0.296054114994363\n",
            "precision: 0.06997335840777308\n",
            "recall:    0.5906084656084656\n",
            "f1:        0.1251226005324366\n",
            "------------------------------------------------------------\n",
            "------------------------------------------------------------\n",
            "Modelo:    KNearest\n",
            "\n",
            "accuracy:  0.34870349492671926\n",
            "precision: 0.08053467000835422\n",
            "recall:    0.6375661375661376\n",
            "f1:        0.14300548879988131\n",
            "------------------------------------------------------------\n",
            "------------------------------------------------------------\n",
            "Modelo:    DecisionTreeClassifier\n",
            "\n",
            "accuracy:  0.3390642615558061\n",
            "precision: 0.09851403412217942\n",
            "recall:    0.8287037037037037\n",
            "f1:        0.17609444171175603\n",
            "------------------------------------------------------------\n",
            "------------------------------------------------------------\n",
            "Modelo:    Random Forest\n",
            "\n",
            "accuracy:  0.23573844419391207\n",
            "precision: 0.08876143656971186\n",
            "recall:    0.8597883597883598\n",
            "f1:        0.16091100383710855\n",
            "------------------------------------------------------------\n",
            "------------------------------------------------------------\n"
          ]
        }
      ]
    },
    {
      "cell_type": "markdown",
      "source": [
        "## Distribuição (Random Over-Sampling)"
      ],
      "metadata": {
        "id": "PiCUBNQ1ly4M"
      }
    },
    {
      "cell_type": "code",
      "source": [
        "\n",
        "# instanciando o método\n",
        "oversample = RandomOverSampler(sampling_strategy='minority')\n",
        "\n",
        "# transformando o conjunto de dados\n",
        "X_over, y_over = oversample.fit_resample(X_train, y_train)\n",
        "\n",
        "# resumindo a distribuição da nova classe\n",
        "counter = Counter(y_over)\n",
        "print(counter)"
      ],
      "metadata": {
        "colab": {
          "base_uri": "https://localhost:8080/"
        },
        "id": "bPNX30h3lzc6",
        "outputId": "eb11a3a0-4a4b-41a1-db39-38bad3f4d445"
      },
      "execution_count": 27,
      "outputs": [
        {
          "output_type": "stream",
          "name": "stdout",
          "text": [
            "Counter({0.0: 64913, 1.0: 64913})\n"
          ]
        }
      ]
    },
    {
      "cell_type": "code",
      "source": [
        "\n",
        "for nome, model in classifiers.items():\n",
        "    \n",
        "    model.fit(X_over, y_over)\n",
        "    y_pred = model.predict(X_val)\n",
        "    \n",
        "    print(f'Modelo:    {nome}\\n')\n",
        "    print(f\"accuracy:  {accuracy_score(y_val, y_pred)}\")\n",
        "    print(f\"precision: {precision_score(y_val, y_pred)}\")\n",
        "    print(f\"recall:    {recall_score(y_val, y_pred)}\")\n",
        "    print(f\"f1:        {f1_score(y_val, y_pred)}\")\n",
        "    print('---' * 20)\n",
        "    print('---' * 20)"
      ],
      "metadata": {
        "colab": {
          "base_uri": "https://localhost:8080/"
        },
        "id": "jJl708gll1YD",
        "outputId": "27d5ec59-f0b3-4087-b6f3-71538be770a5"
      },
      "execution_count": 28,
      "outputs": [
        {
          "output_type": "stream",
          "name": "stdout",
          "text": [
            "Modelo:    LogisiticRegression\n",
            "\n",
            "accuracy:  0.5332018038331454\n",
            "precision: 0.12146292361033441\n",
            "recall:    0.7182539682539683\n",
            "f1:        0.20778723811346025\n",
            "------------------------------------------------------------\n",
            "------------------------------------------------------------\n",
            "Modelo:    KNearest\n",
            "\n",
            "accuracy:  0.8327508455467869\n",
            "precision: 0.2838038632986627\n",
            "recall:    0.6316137566137566\n",
            "f1:        0.3916342013532909\n",
            "------------------------------------------------------------\n",
            "------------------------------------------------------------\n",
            "Modelo:    DecisionTreeClassifier\n",
            "\n",
            "accuracy:  0.9060879368658399\n",
            "precision: 0.4589989350372737\n",
            "recall:    0.5701058201058201\n",
            "f1:        0.5085545722713865\n",
            "------------------------------------------------------------\n",
            "------------------------------------------------------------\n",
            "Modelo:    Random Forest\n",
            "\n",
            "accuracy:  0.946054114994363\n",
            "precision: 0.7744807121661721\n",
            "recall:    0.5178571428571429\n",
            "f1:        0.6206896551724137\n",
            "------------------------------------------------------------\n",
            "------------------------------------------------------------\n"
          ]
        }
      ]
    },
    {
      "cell_type": "markdown",
      "source": [
        "# 📝 Avaliação dos modelos"
      ],
      "metadata": {
        "id": "2JwmPRPzl6Db"
      }
    },
    {
      "cell_type": "code",
      "source": [
        "\n",
        "# transformando os dados\n",
        "X_train_array = X_train.values\n",
        "X_val_array = X_val.values\n",
        "y_train_array = y_train.values\n",
        "y_val_array = y_val.values"
      ],
      "metadata": {
        "id": "kQxGYv_Ul61_"
      },
      "execution_count": 29,
      "outputs": []
    },
    {
      "cell_type": "code",
      "source": [
        "\n",
        "#HIPERPARÂMETROS PARA RANDOM FOREST\n",
        "\n",
        "# número de árvores\n",
        "n_estimators = [3,5,10,100]\n",
        "\n",
        "# número de features para considerar em cada split\n",
        "max_features = [3,4,5,6,None]\n",
        "\n",
        "# número máximo de níveis da árvore\n",
        "max_depth = [3,4,5,6,None]\n",
        "\n",
        "# pesos para cada classe\n",
        "class_weight = ['balanced',None]\n",
        "\n",
        "# colocando os parametros definidos em um dicionário\n",
        "random_grid = {'n_estimators': n_estimators,\n",
        "               'max_features': max_features,\n",
        "               'max_depth': max_depth,\n",
        "               'class_weight': class_weight}\n",
        "\n",
        "# exibindo os parâmetros\n",
        "print(random_grid)"
      ],
      "metadata": {
        "colab": {
          "base_uri": "https://localhost:8080/"
        },
        "id": "v8784CF9l9o8",
        "outputId": "21270c7e-4fe5-4fa7-b787-f8937a3cfbe3"
      },
      "execution_count": 30,
      "outputs": [
        {
          "output_type": "stream",
          "name": "stdout",
          "text": [
            "{'n_estimators': [3, 5, 10, 100], 'max_features': [3, 4, 5, 6, None], 'max_depth': [3, 4, 5, 6, None], 'class_weight': ['balanced', None]}\n"
          ]
        }
      ]
    },
    {
      "cell_type": "markdown",
      "source": [
        "# 🌳 Random Forest + Distribuição (Random Over-Sampling)\n"
      ],
      "metadata": {
        "id": "n9SPBqhsmJfT"
      }
    },
    {
      "cell_type": "code",
      "source": [
        "from sklearn.model_selection import RandomizedSearchCV\n",
        "import time\n",
        "from imblearn.pipeline import make_pipeline as imbalanced_make_pipeline\n",
        "from sklearn.metrics import precision_score, recall_score, f1_score, roc_auc_score, accuracy_score, classification_report\n",
        "\n",
        "# definindo listas vazias para receber os resultados da validação cruzada\n",
        "accuracy_lst_rf = []\n",
        "precision_lst_rf = []\n",
        "recall_lst_rf = []\n",
        "f1_lst_rf = []\n",
        "auc_lst_rf = []\n",
        "\n",
        "\n",
        "# instanciando o RandomizedSearchCV para validação cruzada com o grid de parametros\n",
        "rf_grid = RandomizedSearchCV(RandomForestClassifier(), random_grid, random_state=42)\n",
        "\n",
        "# iniciando o tempo e contador para o loop\n",
        "start = time.time()\n",
        "count = 0\n",
        "\n",
        "# looping para a validação cruzada\n",
        "for train, test in StratifKfold.split(X_train_array, y_train_array):\n",
        "    \n",
        "    # instanciando o pipeline com técnica de reamostragem\n",
        "    pipeline_rf = imbalanced_make_pipeline(RandomOverSampler(sampling_strategy='minority'), rf_grid)\n",
        "    \n",
        "    # executando o pipeline para treinar o modelo\n",
        "    model_rf = pipeline_rf.fit(X_train_array[train], y_train_array[train])\n",
        "    \n",
        "    # identificando os melhores parâmetros no treinamento\n",
        "    best_est_rf = rf_grid.best_estimator_\n",
        "    \n",
        "    # realizando as previsões com o resultado do treinamento\n",
        "    prediction_rf = best_est_rf.predict(X_train_array[test])\n",
        "    \n",
        "    # armazenando os resultados\n",
        "    accuracy_lst_rf.append(pipeline_rf.score(X_train_array[test], y_train_array[test]))\n",
        "    precision_lst_rf.append(precision_score(y_train_array[test], prediction_rf))\n",
        "    recall_lst_rf.append(recall_score(y_train_array[test], prediction_rf))\n",
        "    f1_lst_rf.append(f1_score(y_train_array[test], prediction_rf))\n",
        "    auc_lst_rf.append(roc_auc_score(y_train_array[test], prediction_rf))\n",
        "    \n",
        "    # identificando em qual loop está\n",
        "    count = count + 1\n",
        "    print(f\"kfold nº: {count}\")\n",
        "    \n",
        "    # medindo o tempo de cada loop\n",
        "    intervalo = time.time()\n",
        "    print(f\"tempo intermediário: {(intervalo - start)/60:.1f} minutos\")\n",
        "    print()\n",
        "\n",
        "print('---' * 20)\n",
        "print(f\"melhores estimadores para RF: {rf_grid.best_params_}\")\n",
        "\n",
        "# imprimindo a média dos resultados da validação cruzada\n",
        "print('---' * 20)\n",
        "print('Resultados')\n",
        "print(f\"accuracy:  {np.mean(accuracy_lst_rf)}\")\n",
        "print(f\"precision: {np.mean(precision_lst_rf)}\")\n",
        "print(f\"recall:    {np.mean(recall_lst_rf)}\")\n",
        "print(f\"f1:        {np.mean(f1_lst_rf)}\")\n",
        "print(f\"AUC:       {np.mean(auc_lst_rf)}\")\n",
        "print('---' * 20)\n",
        "\n",
        "# imprimindo o tempo total da validação cruzada\n",
        "end = time.time()\n",
        "print(f\"Tempo do loop para validação cruzada: {(end - start)/60:.1f} minutos\")"
      ],
      "metadata": {
        "colab": {
          "base_uri": "https://localhost:8080/"
        },
        "id": "TQvPFlQKl_WS",
        "outputId": "c161d86f-0c1d-4231-c945-b04e841b774b"
      },
      "execution_count": 31,
      "outputs": [
        {
          "output_type": "stream",
          "name": "stdout",
          "text": [
            "kfold nº: 1\n",
            "tempo intermediário: 6.9 minutos\n",
            "\n",
            "kfold nº: 2\n",
            "tempo intermediário: 13.8 minutos\n",
            "\n",
            "kfold nº: 3\n",
            "tempo intermediário: 20.7 minutos\n",
            "\n",
            "kfold nº: 4\n",
            "tempo intermediário: 27.6 minutos\n",
            "\n",
            "kfold nº: 5\n",
            "tempo intermediário: 34.5 minutos\n",
            "\n",
            "------------------------------------------------------------\n",
            "melhores estimadores para RF: {'n_estimators': 100, 'max_features': 6, 'max_depth': None, 'class_weight': 'balanced'}\n",
            "------------------------------------------------------------\n",
            "Resultados\n",
            "accuracy:  0.9401950391411174\n",
            "precision: 0.7443070494986138\n",
            "recall:    0.4551288123332264\n",
            "f1:        0.5648052131972945\n",
            "AUC:       0.7202700487669474\n",
            "------------------------------------------------------------\n",
            "Tempo do loop para validação cruzada: 34.5 minutos\n"
          ]
        }
      ]
    },
    {
      "cell_type": "markdown",
      "source": [
        "## Avaliação "
      ],
      "metadata": {
        "id": "EsJf2U6jmSBf"
      }
    },
    {
      "cell_type": "code",
      "source": [
        "from scipy import interp\n",
        "from sklearn.metrics import precision_recall_curve, average_precision_score, confusion_matrix, auc, roc_curve\n",
        "\n",
        "# criando uma função para plotar o gráfico\n",
        "def draw_cv_roc_curve(classifier, cv, X, y, title='ROC Curve'):\n",
        "    # definindo algumas listas vazias para receber o resultado\n",
        "    tprs = []\n",
        "    aucs = []\n",
        "    mean_fpr = np.linspace(0, 1, 100)\n",
        "    \n",
        "    # definindo o contador\n",
        "    i = 0\n",
        "    \n",
        "    # loop ara validação cruzada\n",
        "    for train, test in cv.split(X, y):\n",
        "        \n",
        "        # executando a função e armazenando as probabilidade dos resultados\n",
        "        probas_ = classifier.fit(X.iloc[train], y.iloc[train]).predict_proba(X.iloc[test])\n",
        "        \n",
        "        # computando a curva ROC e AUC\n",
        "        fpr, tpr, thresholds = roc_curve(y.iloc[test], probas_[:, 1])\n",
        "        tprs.append(interp(mean_fpr, fpr, tpr))\n",
        "        tprs[-1][0] = 0.0\n",
        "        roc_auc = auc(fpr, tpr)\n",
        "        aucs.append(roc_auc)\n",
        "        \n",
        "        # plotando a curva ROC da validação cruzada em individualmente\n",
        "        plt.plot(fpr, tpr, lw=1, alpha=0.3,\n",
        "                 label='ROC fold %d (AUC = %0.2f)' % (i, roc_auc))\n",
        "\n",
        "        i += 1\n",
        "    \n",
        "    # plotando a linha diagonal como referência da taxa de 50/50\n",
        "    plt.plot([0, 1], [0, 1], linestyle='--', lw=2, color='r',\n",
        "             label='Luck', alpha=.8)\n",
        "\n",
        "    # calculando as médias e desvio padrão\n",
        "    mean_tpr = np.mean(tprs, axis=0)\n",
        "    mean_tpr[-1] = 1.0\n",
        "    mean_auc = auc(mean_fpr, mean_tpr)\n",
        "    std_auc = np.std(aucs)\n",
        "    \n",
        "    # plotando curva ROC com a média dos resultados\n",
        "    plt.plot(mean_fpr, mean_tpr, color='b',\n",
        "             label=r'Mean ROC (AUC = %0.2f %0.2f)' % (mean_auc, std_auc),\n",
        "             lw=2, alpha=.8)\n",
        "\n",
        "    std_tpr = np.std(tprs, axis=0)\n",
        "    tprs_upper = np.minimum(mean_tpr + std_tpr, 1)\n",
        "    tprs_lower = np.maximum(mean_tpr - std_tpr, 0)\n",
        "    plt.fill_between(mean_fpr, tprs_lower, tprs_upper, color='grey', alpha=.2,\n",
        "                     label=r'1 std. dev.')\n",
        "    \n",
        "    # customizando o gráfico\n",
        "    plt.xlim([-0.05, 1.05])\n",
        "    plt.ylim([-0.05, 1.05])\n",
        "    plt.xlabel('False Positive Rate', fontsize=12)\n",
        "    plt.ylabel('True Positive Rate', fontsize=12)\n",
        "    plt.title(title)\n",
        "    plt.legend(loc=\"lower right\")\n",
        "    \n",
        "    # exibindo o gráfico\n",
        "    plt.show()\n",
        "    \n",
        "# executando função e plotando a Curva ROC AUC\n",
        "draw_cv_roc_curve(best_est_rf, StratifKfold, X_train, y_train, title='ROC Curve')"
      ],
      "metadata": {
        "colab": {
          "base_uri": "https://localhost:8080/",
          "height": 699
        },
        "id": "UI1X7RFumS_Y",
        "outputId": "4b37334f-8443-4438-898e-073a81cdaad2"
      },
      "execution_count": 34,
      "outputs": [
        {
          "output_type": "stream",
          "name": "stderr",
          "text": [
            "<ipython-input-34-5c3f93027d77>:22: DeprecationWarning: scipy.interp is deprecated and will be removed in SciPy 2.0.0, use numpy.interp instead\n",
            "  tprs.append(interp(mean_fpr, fpr, tpr))\n",
            "<ipython-input-34-5c3f93027d77>:22: DeprecationWarning: scipy.interp is deprecated and will be removed in SciPy 2.0.0, use numpy.interp instead\n",
            "  tprs.append(interp(mean_fpr, fpr, tpr))\n",
            "<ipython-input-34-5c3f93027d77>:22: DeprecationWarning: scipy.interp is deprecated and will be removed in SciPy 2.0.0, use numpy.interp instead\n",
            "  tprs.append(interp(mean_fpr, fpr, tpr))\n",
            "<ipython-input-34-5c3f93027d77>:22: DeprecationWarning: scipy.interp is deprecated and will be removed in SciPy 2.0.0, use numpy.interp instead\n",
            "  tprs.append(interp(mean_fpr, fpr, tpr))\n",
            "<ipython-input-34-5c3f93027d77>:22: DeprecationWarning: scipy.interp is deprecated and will be removed in SciPy 2.0.0, use numpy.interp instead\n",
            "  tprs.append(interp(mean_fpr, fpr, tpr))\n"
          ]
        },
        {
          "output_type": "display_data",
          "data": {
            "text/plain": [
              "<Figure size 800x550 with 1 Axes>"
            ],
            "image/png": "[encoded data removed]"
          },
          "metadata": {}
        }
      ]
    },
    {
      "cell_type": "markdown",
      "source": [
        "# 🥋 modelo final "
      ],
      "metadata": {
        "id": "SHvJu5_Zmfqg"
      }
    },
    {
      "cell_type": "code",
      "source": [
        "# separando novamente os dados\n",
        "X_all = df_train.drop('popularity', axis=1)\n",
        "y_all = df_train.popularity\n",
        "\n",
        "# instanciando o modelo final com os parametros encontrados na validação cruzada\n",
        "final_model = rf_grid.best_estimator_\n",
        "\n",
        "# definindo o pipeline para reamostragem oversampling e o modelo final\n",
        "pipeline = imbalanced_make_pipeline(RandomOverSampler(sampling_strategy='minority'), final_model)\n",
        "\n",
        "# treinando o modelo com os parametros ajustados com todos os dados\n",
        "model = pipeline.fit(X_all, y_all)"
      ],
      "metadata": {
        "id": "_pSmplhzmgeJ"
      },
      "execution_count": 35,
      "outputs": []
    },
    {
      "cell_type": "code",
      "source": [
        "model.steps[1]"
      ],
      "metadata": {
        "colab": {
          "base_uri": "https://localhost:8080/"
        },
        "id": "8xtzBUgAmhMx",
        "outputId": "b3b1aaa8-fa5a-4b6c-b63b-6a62b186acc2"
      },
      "execution_count": 36,
      "outputs": [
        {
          "output_type": "execute_result",
          "data": {
            "text/plain": [
              "('randomforestclassifier',\n",
              " RandomForestClassifier(class_weight='balanced', max_features=6))"
            ]
          },
          "metadata": {},
          "execution_count": 36
        }
      ]
    },
    {
      "cell_type": "code",
      "source": [
        "lista = model.steps[1][1].feature_importances_"
      ],
      "metadata": {
        "id": "yqUHZ5L5mjRi"
      },
      "execution_count": 37,
      "outputs": []
    },
    {
      "cell_type": "code",
      "source": [
        "print(lista.tolist())"
      ],
      "metadata": {
        "colab": {
          "base_uri": "https://localhost:8080/"
        },
        "id": "LA-ICulemj2U",
        "outputId": "fd158b33-de75-4669-871a-d2ea1c8f6fc7"
      },
      "execution_count": 38,
      "outputs": [
        {
          "output_type": "stream",
          "name": "stdout",
          "text": [
            "[0.09410428561366595, 0.08918446722112083, 0.09599870968647449, 0.04102911999684173, 0.09997283790745488, 0.008488622340435119, 0.09120595591225289, 0.100380802639704, 0.09551751411985118, 0.09491209912893717, 0.09255152276535117, 0.089984233685784, 0.006669828982126619]\n"
          ]
        }
      ]
    },
    {
      "cell_type": "code",
      "source": [
        "# lista de nomes\n",
        "nomes = df_quantitative_nm.columns\n",
        "\n",
        "plt.barh(df_quantitative_nm.drop(columns=['popularity']).columns.tolist(), lista.tolist())\n",
        "\n",
        "plt.show()"
      ],
      "metadata": {
        "colab": {
          "base_uri": "https://localhost:8080/",
          "height": 484
        },
        "id": "7i0rxCEomjyk",
        "outputId": "cf4555ae-34b7-4dc2-e42b-34512e0a9cd3"
      },
      "execution_count": 40,
      "outputs": [
        {
          "output_type": "display_data",
          "data": {
            "text/plain": [
              "<Figure size 800x550 with 1 Axes>"
            ],
            "image/png": "[encoded data removed]"
          },
          "metadata": {}
        }
      ]
    },
    {
      "cell_type": "markdown",
      "source": [
        " \n",
        "# ✅ Preparação, previsão e avaliação nos dados de teste"
      ],
      "metadata": {
        "id": "AE6zTSpGnMys"
      }
    },
    {
      "cell_type": "code",
      "source": [
        "\n",
        "# separando os dados de teste\n",
        "X_test = df_test.drop('popularity', axis=1)\n",
        "y_test = df_test.popularity\n",
        "\n",
        "# realizando as predições nos dados de teste\n",
        "y_pred_test = model.predict(X_test)\n",
        "\n",
        "# imprimindo os resultados\n",
        "print(f\"accuracy:  {accuracy_score(y_test, y_pred_test)}\")\n",
        "print(f\"precision: {precision_score(y_test, y_pred_test)}\")\n",
        "print(f\"recall:    {recall_score(y_test, y_pred_test)}\")\n",
        "print(f\"f1:        {f1_score(y_test, y_pred_test)}\")"
      ],
      "metadata": {
        "colab": {
          "base_uri": "https://localhost:8080/"
        },
        "id": "m4MTKmnwmjve",
        "outputId": "64a1fc80-78d8-44b0-f53c-ce405af05c12"
      },
      "execution_count": 41,
      "outputs": [
        {
          "output_type": "stream",
          "name": "stdout",
          "text": [
            "accuracy:  0.9549512987012987\n",
            "precision: 0.8061959654178674\n",
            "recall:    0.6051919956733369\n",
            "f1:        0.6913809082483781\n"
          ]
        }
      ]
    },
    {
      "cell_type": "code",
      "source": [
        "pd.DataFrame(index=['Baseline', 'Validação', 'Teste'], \n",
        "             data = {\"accuracy\": [accuracy_score(y_val, y_pred_base_val), np.mean(accuracy_lst_rf), accuracy_score(y_test, y_pred_test)], \n",
        "                     \"precision\": [precision_score(y_val, y_pred_base_val), np.mean(precision_lst_rf), precision_score(y_test, y_pred_test)],\n",
        "                     \"recall\": [recall_score(y_val, y_pred_base_val), np.mean(recall_lst_rf), recall_score(y_test, y_pred_test)],\n",
        "                     \"f1\": [f1_score(y_val, y_pred_base_val), np.mean(f1_lst_rf), f1_score(y_test, y_pred_test)]}\n",
        "            )"
      ],
      "metadata": {
        "colab": {
          "base_uri": "https://localhost:8080/",
          "height": 178
        },
        "id": "s1yGzw1imrOx",
        "outputId": "1fb27f47-921a-4ef2-f1e4-f16bc2369912"
      },
      "execution_count": 42,
      "outputs": [
        {
          "output_type": "stream",
          "name": "stderr",
          "text": [
            "/usr/local/lib/python3.9/dist-packages/sklearn/metrics/_classification.py:1344: UndefinedMetricWarning: Precision is ill-defined and being set to 0.0 due to no predicted samples. Use `zero_division` parameter to control this behavior.\n",
            "  _warn_prf(average, modifier, msg_start, len(result))\n"
          ]
        },
        {
          "output_type": "execute_result",
          "data": {
            "text/plain": [
              "           accuracy  precision    recall        f1\n",
              "Baseline   0.914769   0.000000  0.000000  0.000000\n",
              "Validação  0.940195   0.744307  0.455129  0.564805\n",
              "Teste      0.954951   0.806196  0.605192  0.691381"
            ],
            "text/html": [
              "\n",
              "  <div id=\"df-ac5920e3-2a85-4810-b8d4-3ff0563b95ff\">\n",
              "    <div class=\"colab-df-container\">\n",
              "      <div>\n",
              "<style scoped>\n",
              "    .dataframe tbody tr th:only-of-type {\n",
              "        vertical-align: middle;\n",
              "    }\n",
              "\n",
              "    .dataframe tbody tr th {\n",
              "        vertical-align: top;\n",
              "    }\n",
              "\n",
              "    .dataframe thead th {\n",
              "        text-align: right;\n",
              "    }\n",
              "</style>\n",
              "<table border=\"1\" class=\"dataframe\">\n",
              "  <thead>\n",
              "    <tr style=\"text-align: right;\">\n",
              "      <th></th>\n",
              "      <th>accuracy</th>\n",
              "      <th>precision</th>\n",
              "      <th>recall</th>\n",
              "      <th>f1</th>\n",
              "    </tr>\n",
              "  </thead>\n",
              "  <tbody>\n",
              "    <tr>\n",
              "      <th>Baseline</th>\n",
              "      <td>0.914769</td>\n",
              "      <td>0.000000</td>\n",
              "      <td>0.000000</td>\n",
              "      <td>0.000000</td>\n",
              "    </tr>\n",
              "    <tr>\n",
              "      <th>Validação</th>\n",
              "      <td>0.940195</td>\n",
              "      <td>0.744307</td>\n",
              "      <td>0.455129</td>\n",
              "      <td>0.564805</td>\n",
              "    </tr>\n",
              "    <tr>\n",
              "      <th>Teste</th>\n",
              "      <td>0.954951</td>\n",
              "      <td>0.806196</td>\n",
              "      <td>0.605192</td>\n",
              "      <td>0.691381</td>\n",
              "    </tr>\n",
              "  </tbody>\n",
              "</table>\n",
              "</div>\n",
              "      <button class=\"colab-df-convert\" onclick=\"convertToInteractive('df-ac5920e3-2a85-4810-b8d4-3ff0563b95ff')\"\n",
              "              title=\"Convert this dataframe to an interactive table.\"\n",
              "              style=\"display:none;\">\n",
              "        \n",
              "  <svg xmlns=\"http://www.w3.org/2000/svg\" height=\"24px\"viewBox=\"0 0 24 24\"\n",
              "       width=\"24px\">\n",
              "    <path d=\"M0 0h24v24H0V0z\" fill=\"none\"/>\n",
              "    <path d=\"M18.56 5.44l.94 2.06.94-2.06 2.06-.94-2.06-.94-.94-2.06-.94 2.06-2.06.94zm-11 1L8.5 8.5l.94-2.06 2.06-.94-2.06-.94L8.5 2.5l-.94 2.06-2.06.94zm10 10l.94 2.06.94-2.06 2.06-.94-2.06-.94-.94-2.06-.94 2.06-2.06.94z\"/><path d=\"M17.41 7.96l-1.37-1.37c-.4-.4-.92-.59-1.43-.59-.52 0-1.04.2-1.43.59L10.3 9.45l-7.72 7.72c-.78.78-.78 2.05 0 2.83L4 21.41c.39.39.9.59 1.41.59.51 0 1.02-.2 1.41-.59l7.78-7.78 2.81-2.81c.8-.78.8-2.07 0-2.86zM5.41 20L4 18.59l7.72-7.72 1.47 1.35L5.41 20z\"/>\n",
              "  </svg>\n",
              "      </button>\n",
              "      \n",
              "  <style>\n",
              "    .colab-df-container {\n",
              "      display:flex;\n",
              "      flex-wrap:wrap;\n",
              "      gap: 12px;\n",
              "    }\n",
              "\n",
              "    .colab-df-convert {\n",
              "      background-color: #E8F0FE;\n",
              "      border: none;\n",
              "      border-radius: 50%;\n",
              "      cursor: pointer;\n",
              "      display: none;\n",
              "      fill: #1967D2;\n",
              "      height: 32px;\n",
              "      padding: 0 0 0 0;\n",
              "      width: 32px;\n",
              "    }\n",
              "\n",
              "    .colab-df-convert:hover {\n",
              "      background-color: #E2EBFA;\n",
              "      box-shadow: 0px 1px 2px rgba(60, 64, 67, 0.3), 0px 1px 3px 1px rgba(60, 64, 67, 0.15);\n",
              "      fill: #174EA6;\n",
              "    }\n",
              "\n",
              "    [theme=dark] .colab-df-convert {\n",
              "      background-color: #3B4455;\n",
              "      fill: #D2E3FC;\n",
              "    }\n",
              "\n",
              "    [theme=dark] .colab-df-convert:hover {\n",
              "      background-color: #434B5C;\n",
              "      box-shadow: 0px 1px 3px 1px rgba(0, 0, 0, 0.15);\n",
              "      filter: drop-shadow(0px 1px 2px rgba(0, 0, 0, 0.3));\n",
              "      fill: #FFFFFF;\n",
              "    }\n",
              "  </style>\n",
              "\n",
              "      <script>\n",
              "        const buttonEl =\n",
              "          document.querySelector('#df-ac5920e3-2a85-4810-b8d4-3ff0563b95ff button.colab-df-convert');\n",
              "        buttonEl.style.display =\n",
              "          google.colab.kernel.accessAllowed ? 'block' : 'none';\n",
              "\n",
              "        async function convertToInteractive(key) {\n",
              "          const element = document.querySelector('#df-ac5920e3-2a85-4810-b8d4-3ff0563b95ff');\n",
              "          const dataTable =\n",
              "            await google.colab.kernel.invokeFunction('convertToInteractive',\n",
              "                                                     [key], {});\n",
              "          if (!dataTable) return;\n",
              "\n",
              "          const docLinkHtml = 'Like what you see? Visit the ' +\n",
              "            '<a target=\"_blank\" href=https://colab.research.google.com/notebooks/data_table.ipynb>data table notebook</a>'\n",
              "            + ' to learn more about interactive tables.';\n",
              "          element.innerHTML = '';\n",
              "          dataTable['output_type'] = 'display_data';\n",
              "          await google.colab.output.renderOutput(dataTable, element);\n",
              "          const docLink = document.createElement('div');\n",
              "          docLink.innerHTML = docLinkHtml;\n",
              "          element.appendChild(docLink);\n",
              "        }\n",
              "      </script>\n",
              "    </div>\n",
              "  </div>\n",
              "  "
            ]
          },
          "metadata": {},
          "execution_count": 42
        }
      ]
    },
    {
      "cell_type": "code",
      "source": [
        "# armazenando as previsões no dataframe de teste\n",
        "df_test['Predicted'] = y_pred_test\n",
        "\n",
        "# comparando com real com o previsto no dataframe\n",
        "df_test['Correct?'] = np.where(df_test['popularity'] == df_test['Predicted'], 'Yes', 'No')"
      ],
      "metadata": {
        "id": "hE6D2GwgmrJ-"
      },
      "execution_count": 43,
      "outputs": []
    },
    {
      "cell_type": "code",
      "source": [
        "df_test"
      ],
      "metadata": {
        "colab": {
          "base_uri": "https://localhost:8080/",
          "height": 424
        },
        "id": "SKGXfTPXmq_h",
        "outputId": "81c7a7ce-2df8-4006-9fd0-fc977afef3ce"
      },
      "execution_count": 48,
      "outputs": [
        {
          "output_type": "execute_result",
          "data": {
            "text/plain": [
              "        popularity  duration_ms  danceability  energy       key  loudness  \\\n",
              "54416          0.0     0.677410      0.146193   0.375  0.727273  0.626029   \n",
              "53315          0.0     0.403899      0.696447   0.856  0.818182  0.865916   \n",
              "33700          0.0     0.315408      0.834518   0.345  0.727273  0.758541   \n",
              "33755          0.0     0.270871      0.521827   0.661  0.181818  0.814716   \n",
              "53647          0.0     0.567874      0.677157   0.717  0.090909  0.819803   \n",
              "...            ...          ...           ...     ...       ...       ...   \n",
              "66584          0.0     0.439280      0.923858   0.650  1.000000  0.739841   \n",
              "54576          0.0     0.668956      0.716751   0.917  0.909091  0.745427   \n",
              "99502          0.0     0.540524      0.548223   0.455  0.181818  0.779295   \n",
              "12410          0.0     0.207242      0.495431   0.585  0.000000  0.698703   \n",
              "103512         0.0     0.532707      0.669036   0.726  0.090909  0.804950   \n",
              "\n",
              "        mode  speechiness  acousticness  instrumentalness  liveness   valence  \\\n",
              "54416    1.0     0.052021      0.158635          0.972000    0.1120  0.032462   \n",
              "53315    0.0     0.044145      0.089960          0.000000    0.0648  0.736683   \n",
              "33700    0.0     0.080311      0.194779          0.000000    0.1190  0.331658   \n",
              "33755    0.0     0.254922      0.451807          0.000000    0.1710  0.485427   \n",
              "53647    0.0     0.036166      0.193775          0.000000    0.1040  0.497487   \n",
              "...      ...          ...           ...               ...       ...       ...   \n",
              "66584    0.0     0.120207      0.015462          0.063400    0.2290  0.401005   \n",
              "54576    1.0     0.061140      0.331325          0.843000    0.2660  0.645226   \n",
              "99502    1.0     0.026425      0.610442          0.000000    0.3460  0.204020   \n",
              "12410    1.0     0.066114      0.414659          0.080000    0.8900  0.257286   \n",
              "103512   0.0     0.043005      0.309237          0.000013    0.1390  0.712563   \n",
              "\n",
              "           tempo  time_signature  Predicted Correct?  \n",
              "54416   0.568981             0.6        0.0      Yes  \n",
              "53315   0.509496             0.8        0.0      Yes  \n",
              "33700   0.472224             0.8        0.0      Yes  \n",
              "33755   0.331201             0.8        0.0      Yes  \n",
              "53647   0.443790             0.8        0.0      Yes  \n",
              "...          ...             ...        ...      ...  \n",
              "66584   0.558688             0.8        0.0      Yes  \n",
              "54576   0.493265             0.8        0.0      Yes  \n",
              "99502   0.308326             0.8        0.0      Yes  \n",
              "12410   0.242325             0.8        0.0      Yes  \n",
              "103512  0.382312             0.8        0.0      Yes  \n",
              "\n",
              "[22176 rows x 16 columns]"
            ],
            "text/html": [
              "\n",
              "  <div id=\"df-553b79e6-520b-452e-b8b7-2c7fe43279b2\">\n",
              "    <div class=\"colab-df-container\">\n",
              "      <div>\n",
              "<style scoped>\n",
              "    .dataframe tbody tr th:only-of-type {\n",
              "        vertical-align: middle;\n",
              "    }\n",
              "\n",
              "    .dataframe tbody tr th {\n",
              "        vertical-align: top;\n",
              "    }\n",
              "\n",
              "    .dataframe thead th {\n",
              "        text-align: right;\n",
              "    }\n",
              "</style>\n",
              "<table border=\"1\" class=\"dataframe\">\n",
              "  <thead>\n",
              "    <tr style=\"text-align: right;\">\n",
              "      <th></th>\n",
              "      <th>popularity</th>\n",
              "      <th>duration_ms</th>\n",
              "      <th>danceability</th>\n",
              "      <th>energy</th>\n",
              "      <th>key</th>\n",
              "      <th>loudness</th>\n",
              "      <th>mode</th>\n",
              "      <th>speechiness</th>\n",
              "      <th>acousticness</th>\n",
              "      <th>instrumentalness</th>\n",
              "      <th>liveness</th>\n",
              "      <th>valence</th>\n",
              "      <th>tempo</th>\n",
              "      <th>time_signature</th>\n",
              "      <th>Predicted</th>\n",
              "      <th>Correct?</th>\n",
              "    </tr>\n",
              "  </thead>\n",
              "  <tbody>\n",
              "    <tr>\n",
              "      <th>54416</th>\n",
              "      <td>0.0</td>\n",
              "      <td>0.677410</td>\n",
              "      <td>0.146193</td>\n",
              "      <td>0.375</td>\n",
              "      <td>0.727273</td>\n",
              "      <td>0.626029</td>\n",
              "      <td>1.0</td>\n",
              "      <td>0.052021</td>\n",
              "      <td>0.158635</td>\n",
              "      <td>0.972000</td>\n",
              "      <td>0.1120</td>\n",
              "      <td>0.032462</td>\n",
              "      <td>0.568981</td>\n",
              "      <td>0.6</td>\n",
              "      <td>0.0</td>\n",
              "      <td>Yes</td>\n",
              "    </tr>\n",
              "    <tr>\n",
              "      <th>53315</th>\n",
              "      <td>0.0</td>\n",
              "      <td>0.403899</td>\n",
              "      <td>0.696447</td>\n",
              "      <td>0.856</td>\n",
              "      <td>0.818182</td>\n",
              "      <td>0.865916</td>\n",
              "      <td>0.0</td>\n",
              "      <td>0.044145</td>\n",
              "      <td>0.089960</td>\n",
              "      <td>0.000000</td>\n",
              "      <td>0.0648</td>\n",
              "      <td>0.736683</td>\n",
              "      <td>0.509496</td>\n",
              "      <td>0.8</td>\n",
              "      <td>0.0</td>\n",
              "      <td>Yes</td>\n",
              "    </tr>\n",
              "    <tr>\n",
              "      <th>33700</th>\n",
              "      <td>0.0</td>\n",
              "      <td>0.315408</td>\n",
              "      <td>0.834518</td>\n",
              "      <td>0.345</td>\n",
              "      <td>0.727273</td>\n",
              "      <td>0.758541</td>\n",
              "      <td>0.0</td>\n",
              "      <td>0.080311</td>\n",
              "      <td>0.194779</td>\n",
              "      <td>0.000000</td>\n",
              "      <td>0.1190</td>\n",
              "      <td>0.331658</td>\n",
              "      <td>0.472224</td>\n",
              "      <td>0.8</td>\n",
              "      <td>0.0</td>\n",
              "      <td>Yes</td>\n",
              "    </tr>\n",
              "    <tr>\n",
              "      <th>33755</th>\n",
              "      <td>0.0</td>\n",
              "      <td>0.270871</td>\n",
              "      <td>0.521827</td>\n",
              "      <td>0.661</td>\n",
              "      <td>0.181818</td>\n",
              "      <td>0.814716</td>\n",
              "      <td>0.0</td>\n",
              "      <td>0.254922</td>\n",
              "      <td>0.451807</td>\n",
              "      <td>0.000000</td>\n",
              "      <td>0.1710</td>\n",
              "      <td>0.485427</td>\n",
              "      <td>0.331201</td>\n",
              "      <td>0.8</td>\n",
              "      <td>0.0</td>\n",
              "      <td>Yes</td>\n",
              "    </tr>\n",
              "    <tr>\n",
              "      <th>53647</th>\n",
              "      <td>0.0</td>\n",
              "      <td>0.567874</td>\n",
              "      <td>0.677157</td>\n",
              "      <td>0.717</td>\n",
              "      <td>0.090909</td>\n",
              "      <td>0.819803</td>\n",
              "      <td>0.0</td>\n",
              "      <td>0.036166</td>\n",
              "      <td>0.193775</td>\n",
              "      <td>0.000000</td>\n",
              "      <td>0.1040</td>\n",
              "      <td>0.497487</td>\n",
              "      <td>0.443790</td>\n",
              "      <td>0.8</td>\n",
              "      <td>0.0</td>\n",
              "      <td>Yes</td>\n",
              "    </tr>\n",
              "    <tr>\n",
              "      <th>...</th>\n",
              "      <td>...</td>\n",
              "      <td>...</td>\n",
              "      <td>...</td>\n",
              "      <td>...</td>\n",
              "      <td>...</td>\n",
              "      <td>...</td>\n",
              "      <td>...</td>\n",
              "      <td>...</td>\n",
              "      <td>...</td>\n",
              "      <td>...</td>\n",
              "      <td>...</td>\n",
              "      <td>...</td>\n",
              "      <td>...</td>\n",
              "      <td>...</td>\n",
              "      <td>...</td>\n",
              "      <td>...</td>\n",
              "    </tr>\n",
              "    <tr>\n",
              "      <th>66584</th>\n",
              "      <td>0.0</td>\n",
              "      <td>0.439280</td>\n",
              "      <td>0.923858</td>\n",
              "      <td>0.650</td>\n",
              "      <td>1.000000</td>\n",
              "      <td>0.739841</td>\n",
              "      <td>0.0</td>\n",
              "      <td>0.120207</td>\n",
              "      <td>0.015462</td>\n",
              "      <td>0.063400</td>\n",
              "      <td>0.2290</td>\n",
              "      <td>0.401005</td>\n",
              "      <td>0.558688</td>\n",
              "      <td>0.8</td>\n",
              "      <td>0.0</td>\n",
              "      <td>Yes</td>\n",
              "    </tr>\n",
              "    <tr>\n",
              "      <th>54576</th>\n",
              "      <td>0.0</td>\n",
              "      <td>0.668956</td>\n",
              "      <td>0.716751</td>\n",
              "      <td>0.917</td>\n",
              "      <td>0.909091</td>\n",
              "      <td>0.745427</td>\n",
              "      <td>1.0</td>\n",
              "      <td>0.061140</td>\n",
              "      <td>0.331325</td>\n",
              "      <td>0.843000</td>\n",
              "      <td>0.2660</td>\n",
              "      <td>0.645226</td>\n",
              "      <td>0.493265</td>\n",
              "      <td>0.8</td>\n",
              "      <td>0.0</td>\n",
              "      <td>Yes</td>\n",
              "    </tr>\n",
              "    <tr>\n",
              "      <th>99502</th>\n",
              "      <td>0.0</td>\n",
              "      <td>0.540524</td>\n",
              "      <td>0.548223</td>\n",
              "      <td>0.455</td>\n",
              "      <td>0.181818</td>\n",
              "      <td>0.779295</td>\n",
              "      <td>1.0</td>\n",
              "      <td>0.026425</td>\n",
              "      <td>0.610442</td>\n",
              "      <td>0.000000</td>\n",
              "      <td>0.3460</td>\n",
              "      <td>0.204020</td>\n",
              "      <td>0.308326</td>\n",
              "      <td>0.8</td>\n",
              "      <td>0.0</td>\n",
              "      <td>Yes</td>\n",
              "    </tr>\n",
              "    <tr>\n",
              "      <th>12410</th>\n",
              "      <td>0.0</td>\n",
              "      <td>0.207242</td>\n",
              "      <td>0.495431</td>\n",
              "      <td>0.585</td>\n",
              "      <td>0.000000</td>\n",
              "      <td>0.698703</td>\n",
              "      <td>1.0</td>\n",
              "      <td>0.066114</td>\n",
              "      <td>0.414659</td>\n",
              "      <td>0.080000</td>\n",
              "      <td>0.8900</td>\n",
              "      <td>0.257286</td>\n",
              "      <td>0.242325</td>\n",
              "      <td>0.8</td>\n",
              "      <td>0.0</td>\n",
              "      <td>Yes</td>\n",
              "    </tr>\n",
              "    <tr>\n",
              "      <th>103512</th>\n",
              "      <td>0.0</td>\n",
              "      <td>0.532707</td>\n",
              "      <td>0.669036</td>\n",
              "      <td>0.726</td>\n",
              "      <td>0.090909</td>\n",
              "      <td>0.804950</td>\n",
              "      <td>0.0</td>\n",
              "      <td>0.043005</td>\n",
              "      <td>0.309237</td>\n",
              "      <td>0.000013</td>\n",
              "      <td>0.1390</td>\n",
              "      <td>0.712563</td>\n",
              "      <td>0.382312</td>\n",
              "      <td>0.8</td>\n",
              "      <td>0.0</td>\n",
              "      <td>Yes</td>\n",
              "    </tr>\n",
              "  </tbody>\n",
              "</table>\n",
              "<p>22176 rows × 16 columns</p>\n",
              "</div>\n",
              "      <button class=\"colab-df-convert\" onclick=\"convertToInteractive('df-553b79e6-520b-452e-b8b7-2c7fe43279b2')\"\n",
              "              title=\"Convert this dataframe to an interactive table.\"\n",
              "              style=\"display:none;\">\n",
              "        \n",
              "  <svg xmlns=\"http://www.w3.org/2000/svg\" height=\"24px\"viewBox=\"0 0 24 24\"\n",
              "       width=\"24px\">\n",
              "    <path d=\"M0 0h24v24H0V0z\" fill=\"none\"/>\n",
              "    <path d=\"M18.56 5.44l.94 2.06.94-2.06 2.06-.94-2.06-.94-.94-2.06-.94 2.06-2.06.94zm-11 1L8.5 8.5l.94-2.06 2.06-.94-2.06-.94L8.5 2.5l-.94 2.06-2.06.94zm10 10l.94 2.06.94-2.06 2.06-.94-2.06-.94-.94-2.06-.94 2.06-2.06.94z\"/><path d=\"M17.41 7.96l-1.37-1.37c-.4-.4-.92-.59-1.43-.59-.52 0-1.04.2-1.43.59L10.3 9.45l-7.72 7.72c-.78.78-.78 2.05 0 2.83L4 21.41c.39.39.9.59 1.41.59.51 0 1.02-.2 1.41-.59l7.78-7.78 2.81-2.81c.8-.78.8-2.07 0-2.86zM5.41 20L4 18.59l7.72-7.72 1.47 1.35L5.41 20z\"/>\n",
              "  </svg>\n",
              "      </button>\n",
              "      \n",
              "  <style>\n",
              "    .colab-df-container {\n",
              "      display:flex;\n",
              "      flex-wrap:wrap;\n",
              "      gap: 12px;\n",
              "    }\n",
              "\n",
              "    .colab-df-convert {\n",
              "      background-color: #E8F0FE;\n",
              "      border: none;\n",
              "      border-radius: 50%;\n",
              "      cursor: pointer;\n",
              "      display: none;\n",
              "      fill: #1967D2;\n",
              "      height: 32px;\n",
              "      padding: 0 0 0 0;\n",
              "      width: 32px;\n",
              "    }\n",
              "\n",
              "    .colab-df-convert:hover {\n",
              "      background-color: #E2EBFA;\n",
              "      box-shadow: 0px 1px 2px rgba(60, 64, 67, 0.3), 0px 1px 3px 1px rgba(60, 64, 67, 0.15);\n",
              "      fill: #174EA6;\n",
              "    }\n",
              "\n",
              "    [theme=dark] .colab-df-convert {\n",
              "      background-color: #3B4455;\n",
              "      fill: #D2E3FC;\n",
              "    }\n",
              "\n",
              "    [theme=dark] .colab-df-convert:hover {\n",
              "      background-color: #434B5C;\n",
              "      box-shadow: 0px 1px 3px 1px rgba(0, 0, 0, 0.15);\n",
              "      filter: drop-shadow(0px 1px 2px rgba(0, 0, 0, 0.3));\n",
              "      fill: #FFFFFF;\n",
              "    }\n",
              "  </style>\n",
              "\n",
              "      <script>\n",
              "        const buttonEl =\n",
              "          document.querySelector('#df-553b79e6-520b-452e-b8b7-2c7fe43279b2 button.colab-df-convert');\n",
              "        buttonEl.style.display =\n",
              "          google.colab.kernel.accessAllowed ? 'block' : 'none';\n",
              "\n",
              "        async function convertToInteractive(key) {\n",
              "          const element = document.querySelector('#df-553b79e6-520b-452e-b8b7-2c7fe43279b2');\n",
              "          const dataTable =\n",
              "            await google.colab.kernel.invokeFunction('convertToInteractive',\n",
              "                                                     [key], {});\n",
              "          if (!dataTable) return;\n",
              "\n",
              "          const docLinkHtml = 'Like what you see? Visit the ' +\n",
              "            '<a target=\"_blank\" href=https://colab.research.google.com/notebooks/data_table.ipynb>data table notebook</a>'\n",
              "            + ' to learn more about interactive tables.';\n",
              "          element.innerHTML = '';\n",
              "          dataTable['output_type'] = 'display_data';\n",
              "          await google.colab.output.renderOutput(dataTable, element);\n",
              "          const docLink = document.createElement('div');\n",
              "          docLink.innerHTML = docLinkHtml;\n",
              "          element.appendChild(docLink);\n",
              "        }\n",
              "      </script>\n",
              "    </div>\n",
              "  </div>\n",
              "  "
            ]
          },
          "metadata": {},
          "execution_count": 48
        }
      ]
    },
    {
      "cell_type": "markdown",
      "source": [],
      "metadata": {
        "id": "1lArV3RUG4qJ"
      }
    }
  ]
}